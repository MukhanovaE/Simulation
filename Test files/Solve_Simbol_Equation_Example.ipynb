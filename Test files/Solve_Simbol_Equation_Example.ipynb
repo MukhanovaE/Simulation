{
 "cells": [
  {
   "cell_type": "code",
   "execution_count": 3,
   "metadata": {},
   "outputs": [],
   "source": [
    "from scipy import *\n",
    "from qutip import *\n",
    "from matplotlib import *\n",
    "import numpy as np\n",
    "import matplotlib.pyplot as plt\n",
    "\n",
    "\n",
    "from sympy import *\n",
    "init_printing() \n",
    "\n",
    "\n",
    "from sympsi import *\n",
    "from sympsi.pauli import *\n",
    "\n",
    "\n",
    "from matplotlib import colors\n",
    "from matplotlib import cm\n",
    "\n",
    "from sympy.physics.quantum.dagger import Dagger\n",
    "from sympy.physics.quantum.operator import Operator"
   ]
  },
  {
   "cell_type": "code",
   "execution_count": 4,
   "metadata": {},
   "outputs": [],
   "source": [
    "theta, t = symbols(\"θ, t\")\n",
    "eps, Delta, Omega_q = symbols(\"ε, Δ, ω_q\",real=True, positive=True)\n",
    "Hsym = symbols(\"H\")\n",
    "\n",
    "sx, sy, sz = SigmaX(), SigmaY(), SigmaZ()"
   ]
  },
  {
   "cell_type": "markdown",
   "metadata": {},
   "source": [
    "# Rabi Hamiltonian"
   ]
  },
  {
   "cell_type": "code",
   "execution_count": 5,
   "metadata": {},
   "outputs": [
    {
     "data": {
      "image/png": "[encoded data removed]",
      "text/latex": [
       "$$H = - \\frac{Δ {\\sigma_x}}{2} - \\frac{ε {\\sigma_z}}{2}$$"
      ],
      "text/plain": [
       "      Δ⋅False   ε⋅False\n",
       "H = - ─────── - ───────\n",
       "         2         2   "
      ]
     },
     "execution_count": 5,
     "metadata": {},
     "output_type": "execute_result"
    }
   ],
   "source": [
    "#Rabi hamiltonian \n",
    "H = -eps/2 * sz - Delta/2 * sx\n",
    "Eq(Hsym, H)"
   ]
  },
  {
   "cell_type": "code",
   "execution_count": 16,
   "metadata": {},
   "outputs": [
    {
     "data": {
      "image/png": "[encoded data removed]",
      "text/latex": [
       "$$e^{\\frac{i θ {\\sigma_y}}{2}}$$"
      ],
      "text/plain": [
       " ⅈ⋅θ⋅False\n",
       " ─────────\n",
       "     2    \n",
       "ℯ         "
      ]
     },
     "execution_count": 16,
     "metadata": {},
     "output_type": "execute_result"
    }
   ],
   "source": [
    "#    def hamiltonian_transformation(U, H, N=6, collect_operators=None,\n",
    "#                              independent=False, expansion_search=True):\n",
    "\n",
    "#Apply an unitary basis transformation to the Hamiltonian H:\n",
    "#     H = U H U^\\dagger -i U d/dt(U^\\dagger)\n",
    "\n",
    "U = exp(I * theta/2 * sy); U"
   ]
  },
  {
   "cell_type": "code",
   "execution_count": 14,
   "metadata": {},
   "outputs": [
    {
     "data": {
      "image/png": "[encoded data removed]",
      "text/latex": [
       "$$\\sin{\\left (θ \\right )} {\\sigma_z} + \\cos{\\left (θ \\right )} {\\sigma_x}$$"
      ],
      "text/plain": [
       "sin(θ)⋅False + cos(θ)⋅False"
      ]
     },
     "execution_count": 14,
     "metadata": {},
     "output_type": "execute_result"
    }
   ],
   "source": [
    "hamiltonian_transformation(U, sx)"
   ]
  },
  {
   "cell_type": "code",
   "execution_count": 10,
   "metadata": {},
   "outputs": [
    {
     "data": {
      "image/png": "[encoded data removed]",
      "text/latex": [
       "$$H = - \\frac{Δ \\left(\\sin{\\left (θ \\right )} {\\sigma_z} + \\cos{\\left (θ \\right )} {\\sigma_x}\\right)}{2} - \\frac{ε \\left(- \\sin{\\left (θ \\right )} {\\sigma_x} + \\cos{\\left (θ \\right )} {\\sigma_z}\\right)}{2}$$"
      ],
      "text/plain": [
       "      Δ⋅(sin(θ)⋅False + cos(θ)⋅False)   ε⋅(-sin(θ)⋅False + cos(θ)⋅False)\n",
       "H = - ─────────────────────────────── - ────────────────────────────────\n",
       "                     2                                 2                "
      ]
     },
     "execution_count": 10,
     "metadata": {},
     "output_type": "execute_result"
    }
   ],
   "source": [
    "H1 = hamiltonian_transformation(U, H)\n",
    "Eq(Hsym, H1)"
   ]
  },
  {
   "cell_type": "code",
   "execution_count": 44,
   "metadata": {},
   "outputs": [
    {
     "data": {
      "image/png": "[encoded data removed]",
      "text/latex": [
       "$$H = \\left(- \\frac{Δ \\sin{\\left (θ \\right )}}{2} - \\frac{ε \\cos{\\left (θ \\right )}}{2}\\right) {\\sigma_z} + \\left(- \\frac{Δ \\cos{\\left (θ \\right )}}{2} + \\frac{ε \\sin{\\left (θ \\right )}}{2}\\right) {\\sigma_x}$$"
      ],
      "text/plain": [
       "    ⎛  Δ⋅sin(θ)   ε⋅cos(θ)⎞         ⎛  Δ⋅cos(θ)   ε⋅sin(θ)⎞      \n",
       "H = ⎜- ──────── - ────────⎟⋅False + ⎜- ──────── + ────────⎟⋅False\n",
       "    ⎝     2          2    ⎠         ⎝     2          2    ⎠      "
      ]
     },
     "execution_count": 44,
     "metadata": {},
     "output_type": "execute_result"
    }
   ],
   "source": [
    "H2 = collect(H1.expand(), (sx, sz))\n",
    "Eq(Hsym, H2)"
   ]
  },
  {
   "cell_type": "code",
   "execution_count": 12,
   "metadata": {},
   "outputs": [
    {
     "data": {
      "image/png": "[encoded data removed]",
      "text/latex": [
       "$$- \\frac{Δ \\cos{\\left (θ \\right )}}{2} + \\frac{ε \\sin{\\left (θ \\right )}}{2} = 0$$"
      ],
      "text/plain": [
       "  Δ⋅cos(θ)   ε⋅sin(θ)    \n",
       "- ──────── + ──────── = 0\n",
       "     2          2        "
      ]
     },
     "execution_count": 12,
     "metadata": {},
     "output_type": "execute_result"
    }
   ],
   "source": [
    "c, o = split_coeff_operator(H2.args[0]) # diagonalisation сondition of 0-equality of nondiagonal terms\n",
    "\n",
    "Eq(c, 0)"
   ]
  },
  {
   "cell_type": "code",
   "execution_count": 13,
   "metadata": {},
   "outputs": [
    {
     "data": {
      "image/png": "[encoded data removed]",
      "text/latex": [
       "$$\\tan{\\left (θ \\right )} = \\frac{Δ}{ε}$$"
      ],
      "text/plain": [
       "         Δ\n",
       "tan(θ) = ─\n",
       "         ε"
      ]
     },
     "execution_count": 13,
     "metadata": {},
     "output_type": "execute_result"
    }
   ],
   "source": [
    "Eq(tan(theta), Delta/eps)"
   ]
  },
  {
   "cell_type": "code",
   "execution_count": 20,
   "metadata": {},
   "outputs": [
    {
     "data": {
      "image/png": "[encoded data removed]",
      "text/latex": [
       "$$H = - \\frac{\\sqrt{Δ^{2} + ε^{2}} {\\sigma_z}}{2}$$"
      ],
      "text/plain": [
       "        _________       \n",
       "       ╱  2    2        \n",
       "    -╲╱  Δ  + ε  ⋅False \n",
       "H = ────────────────────\n",
       "             2          "
      ]
     },
     "execution_count": 20,
     "metadata": {},
     "output_type": "execute_result"
    }
   ],
   "source": [
    "H3 = simplify(H2.subs(theta, atan(Delta/eps)))\n",
    "\n",
    "Eq(Hsym, H3)"
   ]
  },
  {
   "cell_type": "markdown",
   "metadata": {},
   "source": [
    "# Diagonalised Hamiltonian"
   ]
  },
  {
   "cell_type": "code",
   "execution_count": 21,
   "metadata": {},
   "outputs": [
    {
     "data": {
      "image/png": "[encoded data removed]",
      "text/latex": [
       "$$H = - \\frac{ω_{q} {\\sigma_z}}{2}$$"
      ],
      "text/plain": [
       "    -ω_q⋅False \n",
       "H = ───────────\n",
       "         2     "
      ]
     },
     "execution_count": 21,
     "metadata": {},
     "output_type": "execute_result"
    }
   ],
   "source": [
    "H4 = H3.subs(Delta, sqrt(Omega_q ** 2 - eps ** 2))\n",
    "\n",
    "Eq(Hsym, H4)"
   ]
  },
  {
   "cell_type": "markdown",
   "metadata": {},
   "source": [
    "# Resonator Hamiltonian"
   ]
  },
  {
   "cell_type": "code",
   "execution_count": 29,
   "metadata": {},
   "outputs": [],
   "source": [
    "from sympsi.boson import *\n",
    "from sympsi.operatorordering import *"
   ]
  },
  {
   "cell_type": "code",
   "execution_count": 45,
   "metadata": {},
   "outputs": [
    {
     "data": {
      "image/png": "[encoded data removed]",
      "text/latex": [
       "$$H = ω_{r} {{a}^\\dag} {a}$$"
      ],
      "text/plain": [
       "        †  \n",
       "H = ωᵣ⋅a ⋅a"
      ]
     },
     "execution_count": 45,
     "metadata": {},
     "output_type": "execute_result"
    }
   ],
   "source": [
    "omega_r = symbols(\"ω_r\", positive=True)\n",
    "Hsym = symbols(\"H\")\n",
    "a = BosonOp(\"a\")\n",
    "\n",
    "H0 = omega_r * Dagger(a) * a\n",
    "\n",
    "Eq(Hsym, H0)"
   ]
  },
  {
   "cell_type": "code",
   "execution_count": 31,
   "metadata": {},
   "outputs": [
    {
     "data": {
      "image/png": "[encoded data removed]",
      "text/latex": [
       "$$\\left(A e^{- i \\omega_{d} t} + e^{i \\omega_{d} t} \\overline{A}\\right) \\left({{a}^\\dag} + {a}\\right)$$"
      ],
      "text/plain": [
       "⎛   -ⅈ⋅ω_d⋅t    ⅈ⋅ω_d⋅t _⎞ ⎛ †    ⎞\n",
       "⎝A⋅ℯ         + ℯ       ⋅A⎠⋅⎝a  + a⎠"
      ]
     },
     "execution_count": 31,
     "metadata": {},
     "output_type": "execute_result"
    }
   ],
   "source": [
    "omega_d, t = symbols(\"omega_d, t\")\n",
    "A = symbols(\"A\")\n",
    "\n",
    "Hdrive = (A * exp(-I * omega_d * t) + conjugate(A) * exp(I * omega_d * t)) * (a + Dagger(a))\n",
    "\n",
    "Hdrive"
   ]
  },
  {
   "cell_type": "code",
   "execution_count": 25,
   "metadata": {},
   "outputs": [
    {
     "data": {
      "image/png": "[encoded data removed]",
      "text/latex": [
       "$$H = ω_{r} {{a}^\\dag} {a} + \\left(A e^{- i \\omega_{d} t} + e^{i \\omega_{d} t} \\overline{A}\\right) \\left({{a}^\\dag} + {a}\\right)$$"
      ],
      "text/plain": [
       "        †     ⎛   -ⅈ⋅ω_d⋅t    ⅈ⋅ω_d⋅t _⎞ ⎛ †    ⎞\n",
       "H = ωᵣ⋅a ⋅a + ⎝A⋅ℯ         + ℯ       ⋅A⎠⋅⎝a  + a⎠"
      ]
     },
     "execution_count": 25,
     "metadata": {},
     "output_type": "execute_result"
    }
   ],
   "source": [
    "H = H0 + Hdrive\n",
    "\n",
    "Eq(Hsym, H)"
   ]
  },
  {
   "cell_type": "code",
   "execution_count": 32,
   "metadata": {},
   "outputs": [
    {
     "data": {
      "image/png": "[encoded data removed]",
      "text/latex": [
       "$$e^{i \\omega_{d} t {{a}^\\dag} {a}}$$"
      ],
      "text/plain": [
       "          †  \n",
       " ⅈ⋅ω_d⋅t⋅a ⋅a\n",
       "ℯ            "
      ]
     },
     "execution_count": 32,
     "metadata": {},
     "output_type": "execute_result"
    }
   ],
   "source": [
    "U = exp(I * omega_d * t * Dagger(a) * a)\n",
    "\n",
    "U"
   ]
  },
  {
   "cell_type": "code",
   "execution_count": 33,
   "metadata": {},
   "outputs": [
    {
     "data": {
      "image/png": "[encoded data removed]",
      "text/latex": [
       "$$A {{a}^\\dag} + A e^{- 2 i \\omega_{d} t} {a} - \\omega_{d} {{a}^\\dag} {a} + ω_{r} {{a}^\\dag} {a} + e^{2 i \\omega_{d} t} \\overline{A} {{a}^\\dag} + \\overline{A} {a}$$"
      ],
      "text/plain": [
       "   †      -2⋅ⅈ⋅ω_d⋅t          †         †      2⋅ⅈ⋅ω_d⋅t _  †   _  \n",
       "A⋅a  + A⋅ℯ          ⋅a - ω_d⋅a ⋅a + ωᵣ⋅a ⋅a + ℯ         ⋅A⋅a  + A⋅a"
      ]
     },
     "execution_count": 33,
     "metadata": {},
     "output_type": "execute_result"
    }
   ],
   "source": [
    "H2 = hamiltonian_transformation(U, H.expand())\n",
    "\n",
    "H2"
   ]
  },
  {
   "cell_type": "code",
   "execution_count": 34,
   "metadata": {},
   "outputs": [],
   "source": [
    "Delta = symbols(\"Delta\", positive=True)"
   ]
  },
  {
   "cell_type": "code",
   "execution_count": 35,
   "metadata": {},
   "outputs": [
    {
     "data": {
      "image/png": "[encoded data removed]",
      "text/latex": [
       "$$A {{a}^\\dag} + A e^{- 2 i \\omega_{d} t} {a} + \\Delta {{a}^\\dag} {a} + e^{2 i \\omega_{d} t} \\overline{A} {{a}^\\dag} + \\overline{A} {a}$$"
      ],
      "text/plain": [
       "   †      -2⋅ⅈ⋅ω_d⋅t        †      2⋅ⅈ⋅ω_d⋅t _  †   _  \n",
       "A⋅a  + A⋅ℯ          ⋅a + Δ⋅a ⋅a + ℯ         ⋅A⋅a  + A⋅a"
      ]
     },
     "execution_count": 35,
     "metadata": {},
     "output_type": "execute_result"
    }
   ],
   "source": [
    "H3 = collect(H2, Dagger(a) * a).subs(omega_r - omega_d, Delta)\n",
    "\n",
    "H3"
   ]
  },
  {
   "cell_type": "markdown",
   "metadata": {},
   "source": [
    "# RWA approximation"
   ]
  },
  {
   "cell_type": "code",
   "execution_count": 46,
   "metadata": {},
   "outputs": [
    {
     "data": {
      "image/png": "[encoded data removed]",
      "text/latex": [
       "$$H = A {{a}^\\dag} + \\Delta {{a}^\\dag} {a} + \\overline{A} {a}$$"
      ],
      "text/plain": [
       "       †      †     _  \n",
       "H = A⋅a  + Δ⋅a ⋅a + A⋅a"
      ]
     },
     "execution_count": 46,
     "metadata": {},
     "output_type": "execute_result"
    }
   ],
   "source": [
    "H3 = drop_terms_containing(H3, [exp( 2 * I * omega_d * t),\n",
    "                                exp(-2 * I * omega_d * t)])\n",
    "\n",
    "Eq(Hsym, H3)"
   ]
  },
  {
   "cell_type": "code",
   "execution_count": 47,
   "metadata": {},
   "outputs": [
    {
     "data": {
      "image/png": "[encoded data removed]",
      "text/latex": [
       "$$e^{\\alpha {{a}^\\dag} - \\overline{\\alpha} {a}}$$"
      ],
      "text/plain": [
       "    †   _  \n",
       " α⋅a  - α⋅a\n",
       "ℯ          "
      ]
     },
     "execution_count": 47,
     "metadata": {},
     "output_type": "execute_result"
    }
   ],
   "source": [
    "alpha = symbols(\"alpha\")\n",
    "H = Dagger(a) * alpha - conjugate(alpha) * a\n",
    "U = exp(H)\n",
    "\n",
    "U"
   ]
  },
  {
   "cell_type": "code",
   "execution_count": 48,
   "metadata": {},
   "outputs": [
    {
     "data": {
      "image/png": "[encoded data removed]",
      "text/latex": [
       "$$- A \\overline{\\alpha} + \\Delta \\alpha \\overline{\\alpha} + \\Delta {{a}^\\dag} {a} - \\alpha \\overline{A} + \\left(A - \\Delta \\alpha\\right) {{a}^\\dag} + \\left(- \\Delta \\overline{\\alpha} + \\overline{A}\\right) {a}$$"
      ],
      "text/plain": [
       "    _       _      †       _              †   ⎛    _   _⎞  \n",
       "- A⋅α + Δ⋅α⋅α + Δ⋅a ⋅a - α⋅A + (A - Δ⋅α)⋅a  + ⎝- Δ⋅α + A⎠⋅a"
      ]
     },
     "execution_count": 48,
     "metadata": {},
     "output_type": "execute_result"
    }
   ],
   "source": [
    "H4 = hamiltonian_transformation(U, H3)\n",
    "\n",
    "H4 = collect(H4.expand(), [Dagger(a)*a, a, Dagger(a)])\n",
    "\n",
    "H4"
   ]
  },
  {
   "cell_type": "code",
   "execution_count": 49,
   "metadata": {},
   "outputs": [
    {
     "data": {
      "image/png": "[encoded data removed]",
      "text/latex": [
       "$$\\Delta {{a}^\\dag} {a}$$"
      ],
      "text/plain": [
       "   †  \n",
       "Δ⋅a ⋅a"
      ]
     },
     "execution_count": 49,
     "metadata": {},
     "output_type": "execute_result"
    }
   ],
   "source": [
    "H5 = H4.subs(alpha, A/Delta)\n",
    "\n",
    "H5 = drop_c_number_terms(H5)\n",
    "\n",
    "H5"
   ]
  },
  {
   "cell_type": "code",
   "execution_count": null,
   "metadata": {},
   "outputs": [],
   "source": []
  },
  {
   "cell_type": "code",
   "execution_count": null,
   "metadata": {},
   "outputs": [],
   "source": []
  }
 ],
 "metadata": {
  "kernelspec": {
   "display_name": "Python 3",
   "language": "python",
   "name": "python3"
  },
  "language_info": {
   "codemirror_mode": {
    "name": "ipython",
    "version": 3
   },
   "file_extension": ".py",
   "mimetype": "text/x-python",
   "name": "python",
   "nbconvert_exporter": "python",
   "pygments_lexer": "ipython3",
   "version": "3.7.3"
  }
 },
 "nbformat": 4,
 "nbformat_minor": 2
}
