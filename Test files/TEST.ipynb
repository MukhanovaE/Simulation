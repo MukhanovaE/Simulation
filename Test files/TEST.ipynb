{
 "cells": [
  {
   "cell_type": "code",
   "execution_count": 1,
   "metadata": {},
   "outputs": [
    {
     "data": {
      "image/png": "[encoded data removed]",
      "text/latex": [
       "$$H = - \\frac{\\Delta {\\sigma_x}}{2} - \\frac{\\epsilon {\\sigma_z}}{2}$$"
      ],
      "text/plain": [
       "      Δ⋅False   ε⋅False\n",
       "H = - ─────── - ───────\n",
       "         2         2   "
      ]
     },
     "execution_count": 1,
     "metadata": {},
     "output_type": "execute_result"
    }
   ],
   "source": [
    "from sympy import *\n",
    "init_printing()\n",
    "\n",
    "\n",
    "from sympsi import *\n",
    "from sympsi.pauli import *\n",
    "\n",
    "\n",
    "\n",
    "theta, t = symbols(\"theta, t\", real=True, positive=True)\n",
    "#eps = symbols(\"epsilon\")\n",
    "#Delta = symbols(\"Delta\")\n",
    "eps, Delta, Omega = symbols(\"epsilon, Delta, Omega\", real=True, positive=True)\n",
    "Hsym = symbols(\"H\")\n",
    "\n",
    "sx, sy, sz = SigmaX(), SigmaY(), SigmaZ()\n",
    "\n",
    "H = -eps/2 * sz - Delta/2 * sx\n",
    "\n",
    "Eq(Hsym, H)"
   ]
  },
  {
   "cell_type": "code",
   "execution_count": 2,
   "metadata": {},
   "outputs": [
    {
     "data": {
      "image/png": "[encoded data removed]",
      "text/latex": [
       "$$e^{\\frac{i \\theta {\\sigma_y}}{2}}$$"
      ],
      "text/plain": [
       " ⅈ⋅θ⋅False\n",
       " ─────────\n",
       "     2    \n",
       "ℯ         "
      ]
     },
     "execution_count": 2,
     "metadata": {},
     "output_type": "execute_result"
    }
   ],
   "source": [
    "U = exp(I * theta/2 * sy)\n",
    "U"
   ]
  },
  {
   "cell_type": "code",
   "execution_count": 3,
   "metadata": {},
   "outputs": [
    {
     "data": {
      "image/png": "[encoded data removed]",
      "text/latex": [
       "$$\\sin{\\left (\\theta \\right )} {\\sigma_z} + \\cos{\\left (\\theta \\right )} {\\sigma_x}$$"
      ],
      "text/plain": [
       "sin(θ)⋅False + cos(θ)⋅False"
      ]
     },
     "execution_count": 3,
     "metadata": {},
     "output_type": "execute_result"
    }
   ],
   "source": [
    "hamiltonian_transformation(U, sx)"
   ]
  },
  {
   "cell_type": "code",
   "execution_count": null,
   "metadata": {},
   "outputs": [],
   "source": []
  }
 ],
 "metadata": {
  "kernelspec": {
   "display_name": "Python 3",
   "language": "python",
   "name": "python3"
  },
  "language_info": {
   "codemirror_mode": {
    "name": "ipython",
    "version": 3
   },
   "file_extension": ".py",
   "mimetype": "text/x-python",
   "name": "python",
   "nbconvert_exporter": "python",
   "pygments_lexer": "ipython3",
   "version": "3.7.3"
  }
 },
 "nbformat": 4,
 "nbformat_minor": 4
}
