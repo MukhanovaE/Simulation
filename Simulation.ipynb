{
 "cells": [
  {
   "cell_type": "code",
   "execution_count": 1,
   "metadata": {},
   "outputs": [],
   "source": [
    "# %load basic_imports.py\n",
    "from scipy import *\n",
    "from qutip import *\n",
    "import numpy as np\n",
    "import matplotlib.pyplot as plt\n"
   ]
  },
  {
   "cell_type": "code",
   "execution_count": 2,
   "metadata": {},
   "outputs": [],
   "source": [
    "from Lib.Parametrs import *\n",
    "import Lib.Bloch_sphere as bloch"
   ]
  },
  {
   "cell_type": "code",
   "execution_count": 3,
   "metadata": {},
   "outputs": [],
   "source": [
    "#initial hamiltonian\n",
    "def Hq():\n",
    "    Hq = OmegaQ * sigmaz()/2\n",
    "    \n",
    "def He(OmegaR):\n",
    "    He = OmegaR * sigmax()/2\n",
    "    \n",
    "def Hi(Amp, OmegaD, phi): \n",
    "    Hi = Amp * np.cos(OmegaD*t+phi) * sigmaz()/2"
   ]
  }
 ],
 "metadata": {
  "kernelspec": {
   "display_name": "Python 3",
   "language": "python",
   "name": "python3"
  },
  "language_info": {
   "codemirror_mode": {
    "name": "ipython",
    "version": 3
   },
   "file_extension": ".py",
   "mimetype": "text/x-python",
   "name": "python",
   "nbconvert_exporter": "python",
   "pygments_lexer": "ipython3",
   "version": "3.7.6"
  }
 },
 "nbformat": 4,
 "nbformat_minor": 4
}
