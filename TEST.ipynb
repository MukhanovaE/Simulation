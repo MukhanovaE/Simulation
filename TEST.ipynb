{
 "cells": [
  {
   "cell_type": "code",
   "execution_count": 1,
   "metadata": {},
   "outputs": [
    {
     "data": {
      "image/png": "[encoded data removed]",
      "text/latex": [
       "$\\displaystyle H = - \\frac{\\Delta {\\sigma_x}}{2} - \\frac{\\epsilon {\\sigma_z}}{2}$"
      ],
      "text/plain": [
       "      Δ⋅False   ε⋅False\n",
       "H = - ─────── - ───────\n",
       "         2         2   "
      ]
     },
     "execution_count": 1,
     "metadata": {},
     "output_type": "execute_result"
    }
   ],
   "source": [
    "from sympy import *\n",
    "init_printing()\n",
    "\n",
    "\n",
    "from sympsi import *\n",
    "from sympsi.pauli import *\n",
    "\n",
    "\n",
    "\n",
    "theta, t = symbols(\"theta, t\", real=True, positive=True)\n",
    "#eps = symbols(\"epsilon\")\n",
    "#Delta = symbols(\"Delta\")\n",
    "eps, Delta, Omega = symbols(\"epsilon, Delta, Omega\", real=True, positive=True)\n",
    "Hsym = symbols(\"H\")\n",
    "\n",
    "sx, sy, sz = SigmaX(), SigmaY(), SigmaZ()\n",
    "\n",
    "H = -eps/2 * sz - Delta/2 * sx\n",
    "\n",
    "Eq(Hsym, H)"
   ]
  },
  {
   "cell_type": "code",
   "execution_count": 2,
   "metadata": {},
   "outputs": [
    {
     "data": {
      "image/png": "[encoded data removed]",
      "text/latex": [
       "$\\displaystyle e^{\\frac{i \\theta {\\sigma_y}}{2}}$"
      ],
      "text/plain": [
       " ⅈ⋅θ⋅False\n",
       " ─────────\n",
       "     2    \n",
       "ℯ         "
      ]
     },
     "execution_count": 2,
     "metadata": {},
     "output_type": "execute_result"
    }
   ],
   "source": [
    "U = exp(I * theta/2 * sy); U"
   ]
  },
  {
   "cell_type": "code",
   "execution_count": 3,
   "metadata": {},
   "outputs": [
    {
     "ename": "AttributeError",
     "evalue": "Can not collect noncommutative symbol",
     "output_type": "error",
     "traceback": [
      "\u001b[1;31m---------------------------------------------------------------------------\u001b[0m",
      "\u001b[1;31mAttributeError\u001b[0m                            Traceback (most recent call last)",
      "\u001b[1;32m<ipython-input-3-f779083f1814>\u001b[0m in \u001b[0;36m<module>\u001b[1;34m\u001b[0m\n\u001b[1;32m----> 1\u001b[1;33m \u001b[0mhamiltonian_transformation\u001b[0m\u001b[1;33m(\u001b[0m\u001b[0mU\u001b[0m\u001b[1;33m,\u001b[0m \u001b[0msx\u001b[0m\u001b[1;33m)\u001b[0m\u001b[1;33m\u001b[0m\u001b[1;33m\u001b[0m\u001b[0m\n\u001b[0m",
      "\u001b[1;32m~\\Documents\\Qbit\\PYTON\\Simulations\\sympsi\\qutility.py\u001b[0m in \u001b[0;36mhamiltonian_transformation\u001b[1;34m(U, H, N, collect_operators, independent, expansion_search)\u001b[0m\n\u001b[0;32m   1108\u001b[0m                                   \u001b[0mcollect_operators\u001b[0m\u001b[1;33m=\u001b[0m\u001b[0mcollect_operators\u001b[0m\u001b[1;33m,\u001b[0m\u001b[1;33m\u001b[0m\u001b[1;33m\u001b[0m\u001b[0m\n\u001b[0;32m   1109\u001b[0m                                   \u001b[0mindependent\u001b[0m\u001b[1;33m=\u001b[0m\u001b[0mindependent\u001b[0m\u001b[1;33m,\u001b[0m\u001b[1;33m\u001b[0m\u001b[1;33m\u001b[0m\u001b[0m\n\u001b[1;32m-> 1110\u001b[1;33m                                   expansion_search=expansion_search)\n\u001b[0m\u001b[0;32m   1111\u001b[0m     \u001b[1;32mreturn\u001b[0m \u001b[0mH_st\u001b[0m \u001b[1;33m+\u001b[0m \u001b[0mH_td\u001b[0m\u001b[1;33m\u001b[0m\u001b[1;33m\u001b[0m\u001b[0m\n\u001b[0;32m   1112\u001b[0m \u001b[1;33m\u001b[0m\u001b[0m\n",
      "\u001b[1;32m~\\Documents\\Qbit\\PYTON\\Simulations\\sympsi\\qutility.py\u001b[0m in \u001b[0;36munitary_transformation\u001b[1;34m(U, O, N, collect_operators, independent, allinone, expansion_search)\u001b[0m\n\u001b[0;32m   1083\u001b[0m                                       \u001b[0mindependent\u001b[0m\u001b[1;33m=\u001b[0m\u001b[0mindependent\u001b[0m\u001b[1;33m,\u001b[0m\u001b[1;33m\u001b[0m\u001b[1;33m\u001b[0m\u001b[0m\n\u001b[0;32m   1084\u001b[0m                                       expansion_search=expansion_search)\n\u001b[1;32m-> 1085\u001b[1;33m                     for op in ops}\n\u001b[0m\u001b[0;32m   1086\u001b[0m \u001b[1;33m\u001b[0m\u001b[0m\n\u001b[0;32m   1087\u001b[0m         \u001b[1;31m#return O.subs(ops_subs, simultaneous=True) # XXX: this this\u001b[0m\u001b[1;33m\u001b[0m\u001b[1;33m\u001b[0m\u001b[1;33m\u001b[0m\u001b[0m\n",
      "\u001b[1;32m~\\Documents\\Qbit\\PYTON\\Simulations\\sympsi\\qutility.py\u001b[0m in \u001b[0;36m<dictcomp>\u001b[1;34m(.0)\u001b[0m\n\u001b[0;32m   1083\u001b[0m                                       \u001b[0mindependent\u001b[0m\u001b[1;33m=\u001b[0m\u001b[0mindependent\u001b[0m\u001b[1;33m,\u001b[0m\u001b[1;33m\u001b[0m\u001b[1;33m\u001b[0m\u001b[0m\n\u001b[0;32m   1084\u001b[0m                                       expansion_search=expansion_search)\n\u001b[1;32m-> 1085\u001b[1;33m                     for op in ops}\n\u001b[0m\u001b[0;32m   1086\u001b[0m \u001b[1;33m\u001b[0m\u001b[0m\n\u001b[0;32m   1087\u001b[0m         \u001b[1;31m#return O.subs(ops_subs, simultaneous=True) # XXX: this this\u001b[0m\u001b[1;33m\u001b[0m\u001b[1;33m\u001b[0m\u001b[1;33m\u001b[0m\u001b[0m\n",
      "\u001b[1;32m~\\Documents\\Qbit\\PYTON\\Simulations\\sympsi\\qutility.py\u001b[0m in \u001b[0;36mbch_expansion\u001b[1;34m(A, B, N, collect_operators, independent, expansion_search)\u001b[0m\n\u001b[0;32m   1031\u001b[0m         \u001b[0me_collected\u001b[0m \u001b[1;33m=\u001b[0m \u001b[0mcollect\u001b[0m\u001b[1;33m(\u001b[0m\u001b[0me\u001b[0m\u001b[1;33m,\u001b[0m \u001b[0mcollect_operators\u001b[0m\u001b[1;33m)\u001b[0m\u001b[1;33m\u001b[0m\u001b[1;33m\u001b[0m\u001b[0m\n\u001b[0;32m   1032\u001b[0m     \u001b[1;32melse\u001b[0m\u001b[1;33m:\u001b[0m\u001b[1;33m\u001b[0m\u001b[1;33m\u001b[0m\u001b[0m\n\u001b[1;32m-> 1033\u001b[1;33m         \u001b[0me_collected\u001b[0m \u001b[1;33m=\u001b[0m \u001b[0mcollect\u001b[0m\u001b[1;33m(\u001b[0m\u001b[0me\u001b[0m\u001b[1;33m,\u001b[0m \u001b[0mops\u001b[0m\u001b[1;33m)\u001b[0m\u001b[1;33m\u001b[0m\u001b[1;33m\u001b[0m\u001b[0m\n\u001b[0m\u001b[0;32m   1034\u001b[0m \u001b[1;33m\u001b[0m\u001b[0m\n\u001b[0;32m   1035\u001b[0m     \u001b[1;32mif\u001b[0m \u001b[0mdebug\u001b[0m\u001b[1;33m:\u001b[0m\u001b[1;33m\u001b[0m\u001b[1;33m\u001b[0m\u001b[0m\n",
      "\u001b[1;32m~\\Anaconda3\\envs\\Simulations\\lib\\site-packages\\sympy\\simplify\\radsimp.py\u001b[0m in \u001b[0;36mcollect\u001b[1;34m(expr, syms, func, evaluate, exact, distribute_order_term)\u001b[0m\n\u001b[0;32m    332\u001b[0m             expr = expr.func(*[\n\u001b[0;32m    333\u001b[0m                     \u001b[0mcollect\u001b[0m\u001b[1;33m(\u001b[0m\u001b[0ma\u001b[0m\u001b[1;33m,\u001b[0m \u001b[0msyms\u001b[0m\u001b[1;33m,\u001b[0m \u001b[0mfunc\u001b[0m\u001b[1;33m,\u001b[0m \u001b[1;32mTrue\u001b[0m\u001b[1;33m,\u001b[0m \u001b[0mexact\u001b[0m\u001b[1;33m,\u001b[0m \u001b[0mdistribute_order_term\u001b[0m\u001b[1;33m)\u001b[0m\u001b[1;33m\u001b[0m\u001b[1;33m\u001b[0m\u001b[0m\n\u001b[1;32m--> 334\u001b[1;33m                     for a in expr.args if a != o]) + o\n\u001b[0m\u001b[0;32m    335\u001b[0m         \u001b[1;32melif\u001b[0m \u001b[0mexpr\u001b[0m\u001b[1;33m.\u001b[0m\u001b[0mis_Mul\u001b[0m\u001b[1;33m:\u001b[0m\u001b[1;33m\u001b[0m\u001b[1;33m\u001b[0m\u001b[0m\n\u001b[0;32m    336\u001b[0m             return expr.func(*[\n",
      "\u001b[1;32m~\\Anaconda3\\envs\\Simulations\\lib\\site-packages\\sympy\\simplify\\radsimp.py\u001b[0m in \u001b[0;36m<listcomp>\u001b[1;34m(.0)\u001b[0m\n\u001b[0;32m    332\u001b[0m             expr = expr.func(*[\n\u001b[0;32m    333\u001b[0m                     \u001b[0mcollect\u001b[0m\u001b[1;33m(\u001b[0m\u001b[0ma\u001b[0m\u001b[1;33m,\u001b[0m \u001b[0msyms\u001b[0m\u001b[1;33m,\u001b[0m \u001b[0mfunc\u001b[0m\u001b[1;33m,\u001b[0m \u001b[1;32mTrue\u001b[0m\u001b[1;33m,\u001b[0m \u001b[0mexact\u001b[0m\u001b[1;33m,\u001b[0m \u001b[0mdistribute_order_term\u001b[0m\u001b[1;33m)\u001b[0m\u001b[1;33m\u001b[0m\u001b[1;33m\u001b[0m\u001b[0m\n\u001b[1;32m--> 334\u001b[1;33m                     for a in expr.args if a != o]) + o\n\u001b[0m\u001b[0;32m    335\u001b[0m         \u001b[1;32melif\u001b[0m \u001b[0mexpr\u001b[0m\u001b[1;33m.\u001b[0m\u001b[0mis_Mul\u001b[0m\u001b[1;33m:\u001b[0m\u001b[1;33m\u001b[0m\u001b[1;33m\u001b[0m\u001b[0m\n\u001b[0;32m    336\u001b[0m             return expr.func(*[\n",
      "\u001b[1;32m~\\Anaconda3\\envs\\Simulations\\lib\\site-packages\\sympy\\simplify\\radsimp.py\u001b[0m in \u001b[0;36mcollect\u001b[1;34m(expr, syms, func, evaluate, exact, distribute_order_term)\u001b[0m\n\u001b[0;32m    336\u001b[0m             return expr.func(*[\n\u001b[0;32m    337\u001b[0m                 \u001b[0mcollect\u001b[0m\u001b[1;33m(\u001b[0m\u001b[0mterm\u001b[0m\u001b[1;33m,\u001b[0m \u001b[0msyms\u001b[0m\u001b[1;33m,\u001b[0m \u001b[0mfunc\u001b[0m\u001b[1;33m,\u001b[0m \u001b[1;32mTrue\u001b[0m\u001b[1;33m,\u001b[0m \u001b[0mexact\u001b[0m\u001b[1;33m,\u001b[0m \u001b[0mdistribute_order_term\u001b[0m\u001b[1;33m)\u001b[0m\u001b[1;33m\u001b[0m\u001b[1;33m\u001b[0m\u001b[0m\n\u001b[1;32m--> 338\u001b[1;33m                 for term in expr.args])\n\u001b[0m\u001b[0;32m    339\u001b[0m         \u001b[1;32melif\u001b[0m \u001b[0mexpr\u001b[0m\u001b[1;33m.\u001b[0m\u001b[0mis_Pow\u001b[0m\u001b[1;33m:\u001b[0m\u001b[1;33m\u001b[0m\u001b[1;33m\u001b[0m\u001b[0m\n\u001b[0;32m    340\u001b[0m             b = collect(\n",
      "\u001b[1;32m~\\Anaconda3\\envs\\Simulations\\lib\\site-packages\\sympy\\simplify\\radsimp.py\u001b[0m in \u001b[0;36m<listcomp>\u001b[1;34m(.0)\u001b[0m\n\u001b[0;32m    336\u001b[0m             return expr.func(*[\n\u001b[0;32m    337\u001b[0m                 \u001b[0mcollect\u001b[0m\u001b[1;33m(\u001b[0m\u001b[0mterm\u001b[0m\u001b[1;33m,\u001b[0m \u001b[0msyms\u001b[0m\u001b[1;33m,\u001b[0m \u001b[0mfunc\u001b[0m\u001b[1;33m,\u001b[0m \u001b[1;32mTrue\u001b[0m\u001b[1;33m,\u001b[0m \u001b[0mexact\u001b[0m\u001b[1;33m,\u001b[0m \u001b[0mdistribute_order_term\u001b[0m\u001b[1;33m)\u001b[0m\u001b[1;33m\u001b[0m\u001b[1;33m\u001b[0m\u001b[0m\n\u001b[1;32m--> 338\u001b[1;33m                 for term in expr.args])\n\u001b[0m\u001b[0;32m    339\u001b[0m         \u001b[1;32melif\u001b[0m \u001b[0mexpr\u001b[0m\u001b[1;33m.\u001b[0m\u001b[0mis_Pow\u001b[0m\u001b[1;33m:\u001b[0m\u001b[1;33m\u001b[0m\u001b[1;33m\u001b[0m\u001b[0m\n\u001b[0;32m    340\u001b[0m             b = collect(\n",
      "\u001b[1;32m~\\Anaconda3\\envs\\Simulations\\lib\\site-packages\\sympy\\simplify\\radsimp.py\u001b[0m in \u001b[0;36mcollect\u001b[1;34m(expr, syms, func, evaluate, exact, distribute_order_term)\u001b[0m\n\u001b[0;32m    380\u001b[0m             \u001b[1;32mif\u001b[0m \u001b[0mresult\u001b[0m \u001b[1;32mis\u001b[0m \u001b[1;32mnot\u001b[0m \u001b[1;32mNone\u001b[0m\u001b[1;33m:\u001b[0m\u001b[1;33m\u001b[0m\u001b[1;33m\u001b[0m\u001b[0m\n\u001b[0;32m    381\u001b[0m                 \u001b[1;32mif\u001b[0m \u001b[1;32mnot\u001b[0m \u001b[0msymbol\u001b[0m\u001b[1;33m.\u001b[0m\u001b[0mis_commutative\u001b[0m\u001b[1;33m:\u001b[0m\u001b[1;33m\u001b[0m\u001b[1;33m\u001b[0m\u001b[0m\n\u001b[1;32m--> 382\u001b[1;33m                     \u001b[1;32mraise\u001b[0m \u001b[0mAttributeError\u001b[0m\u001b[1;33m(\u001b[0m\u001b[1;34m\"Can not collect noncommutative symbol\"\u001b[0m\u001b[1;33m)\u001b[0m\u001b[1;33m\u001b[0m\u001b[1;33m\u001b[0m\u001b[0m\n\u001b[0m\u001b[0;32m    383\u001b[0m \u001b[1;33m\u001b[0m\u001b[0m\n\u001b[0;32m    384\u001b[0m                 \u001b[0mterms\u001b[0m\u001b[1;33m,\u001b[0m \u001b[0melems\u001b[0m\u001b[1;33m,\u001b[0m \u001b[0mcommon_expo\u001b[0m\u001b[1;33m,\u001b[0m \u001b[0mhas_deriv\u001b[0m \u001b[1;33m=\u001b[0m \u001b[0mresult\u001b[0m\u001b[1;33m\u001b[0m\u001b[1;33m\u001b[0m\u001b[0m\n",
      "\u001b[1;31mAttributeError\u001b[0m: Can not collect noncommutative symbol"
     ]
    }
   ],
   "source": [
    "hamiltonian_transformation(U, sx)"
   ]
  },
  {
   "cell_type": "code",
   "execution_count": null,
   "metadata": {},
   "outputs": [],
   "source": [
    "hamiltonian_transformation(U, sz)"
   ]
  },
  {
   "cell_type": "code",
   "execution_count": null,
   "metadata": {},
   "outputs": [],
   "source": [
    "H1 = hamiltonian_transformation(U, H)\n",
    "\n",
    "H1"
   ]
  },
  {
   "cell_type": "code",
   "execution_count": null,
   "metadata": {},
   "outputs": [],
   "source": []
  }
 ],
 "metadata": {
  "kernelspec": {
   "display_name": "Python 3",
   "language": "python",
   "name": "python3"
  },
  "language_info": {
   "codemirror_mode": {
    "name": "ipython",
    "version": 3
   },
   "file_extension": ".py",
   "mimetype": "text/x-python",
   "name": "python",
   "nbconvert_exporter": "python",
   "pygments_lexer": "ipython3",
   "version": "3.7.6"
  }
 },
 "nbformat": 4,
 "nbformat_minor": 4
}
