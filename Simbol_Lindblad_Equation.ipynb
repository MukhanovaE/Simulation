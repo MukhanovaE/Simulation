{
 "cells": [
  {
   "cell_type": "code",
   "execution_count": 1,
   "metadata": {},
   "outputs": [],
   "source": [
    "from sympy import *\n",
    "init_printing() \n",
    "\n",
    "from sympsi.boson import *\n",
    "from sympsi import *\n",
    "from sympsi.pauli import *"
   ]
  },
  {
   "cell_type": "code",
   "execution_count": 23,
   "metadata": {},
   "outputs": [],
   "source": [
    "theta, t, phi, f = symbols(\"θ, t, φ, f\")\n",
    "eps, Delta, Omega_q, Omega_d = symbols(\"ε, Δ, ω_q, ω_d\",real=True, positive=True)\n",
    "Hsym = symbols(\"H\")\n",
    "\n",
    "sx, sy, sz = SigmaX(), SigmaY(), SigmaZ()\n",
    "sm = sx-I*sy"
   ]
  },
  {
   "cell_type": "code",
   "execution_count": 3,
   "metadata": {},
   "outputs": [
    {
     "data": {
      "image/png": "[encoded data removed]",
      "text/latex": [
       "$$H = \\frac{f \\left(e^{i \\left(t ω_{d} + φ\\right)} + e^{- i \\left(t ω_{d} + φ\\right)}\\right) {\\sigma_x}}{2} + \\frac{ω_{q} {\\sigma_z}}{2}$$"
      ],
      "text/plain": [
       "      ⎛ ⅈ⋅(t⋅ω_d + φ)    -ⅈ⋅(t⋅ω_d + φ)⎞                  \n",
       "    f⋅⎝ℯ              + ℯ              ⎠⋅False   ω_q⋅False\n",
       "H = ────────────────────────────────────────── + ─────────\n",
       "                        2                            2    "
      ]
     },
     "execution_count": 3,
     "metadata": {},
     "output_type": "execute_result"
    }
   ],
   "source": [
    "Hq = Omega_q/2 * sz\n",
    "arg = Omega_d*t+phi\n",
    "Hd = f*sx*(exp(I*arg)+exp(-I*arg))/2\n",
    "\n",
    "H = Hq+Hd\n",
    "\n",
    "Eq(Hsym, H)"
   ]
  },
  {
   "cell_type": "code",
   "execution_count": 4,
   "metadata": {},
   "outputs": [
    {
     "data": {
      "image/png": "[encoded data removed]",
      "text/latex": [
       "$$e^{\\frac{i t ω_{d} {\\sigma_z}}{2}}$$"
      ],
      "text/plain": [
       " ⅈ⋅t⋅ω_d⋅False\n",
       " ─────────────\n",
       "       2      \n",
       "ℯ             "
      ]
     },
     "execution_count": 4,
     "metadata": {},
     "output_type": "execute_result"
    }
   ],
   "source": [
    "U = exp(I * Omega_d/2 * sz * t); U"
   ]
  },
  {
   "cell_type": "code",
   "execution_count": 5,
   "metadata": {},
   "outputs": [
    {
     "data": {
      "image/png": "[encoded data removed]",
      "text/latex": [
       "$$H = \\frac{f \\left(e^{i \\left(t ω_{d} + φ\\right)} + e^{- i \\left(t ω_{d} + φ\\right)}\\right) \\left(- \\sin{\\left (t ω_{d} \\right )} {\\sigma_y} + \\cos{\\left (t ω_{d} \\right )} {\\sigma_x}\\right)}{2} - \\frac{ω_{d} {\\sigma_z}}{2} + \\frac{ω_{q} {\\sigma_z}}{2}$$"
      ],
      "text/plain": [
       "      ⎛ ⅈ⋅(t⋅ω_d + φ)    -ⅈ⋅(t⋅ω_d + φ)⎞                                      \n",
       "    f⋅⎝ℯ              + ℯ              ⎠⋅(-sin(t⋅ω_d)⋅False + cos(t⋅ω_d)⋅False\n",
       "H = ──────────────────────────────────────────────────────────────────────────\n",
       "                                         2                                    \n",
       "\n",
       "                         \n",
       ")   ω_d⋅False   ω_q⋅False\n",
       "─ - ───────── + ─────────\n",
       "        2           2    "
      ]
     },
     "execution_count": 5,
     "metadata": {},
     "output_type": "execute_result"
    }
   ],
   "source": [
    "H1 = hamiltonian_transformation(U, H)\n",
    "Eq(Hsym, H1)"
   ]
  },
  {
   "cell_type": "code",
   "execution_count": 6,
   "metadata": {},
   "outputs": [
    {
     "data": {
      "image/png": "[encoded data removed]",
      "text/latex": [
       "$$H = \\left(- \\frac{ω_{d}}{2} + \\frac{ω_{q}}{2}\\right) {\\sigma_z} + \\left(- \\frac{f e^{i φ} e^{i t ω_{d}} \\sin{\\left (t ω_{d} \\right )}}{2} - \\frac{f e^{- i φ} e^{- i t ω_{d}} \\sin{\\left (t ω_{d} \\right )}}{2}\\right) {\\sigma_y} + \\left(\\frac{f e^{i φ} e^{i t ω_{d}} \\cos{\\left (t ω_{d} \\right )}}{2} + \\frac{f e^{- i φ} e^{- i t ω_{d}} \\cos{\\left (t ω_{d} \\right )}}{2}\\right) {\\sigma_x}$$"
      ],
      "text/plain": [
       "                          ⎛     ⅈ⋅φ  ⅈ⋅t⋅ω_d                 -ⅈ⋅φ  -ⅈ⋅t⋅ω_d   \n",
       "    ⎛  ω_d   ω_q⎞         ⎜  f⋅ℯ   ⋅ℯ       ⋅sin(t⋅ω_d)   f⋅ℯ    ⋅ℯ        ⋅si\n",
       "H = ⎜- ─── + ───⎟⋅False + ⎜- ────────────────────────── - ────────────────────\n",
       "    ⎝   2     2 ⎠         ⎝              2                             2      \n",
       "\n",
       "        ⎞         ⎛   ⅈ⋅φ  ⅈ⋅t⋅ω_d                 -ⅈ⋅φ  -ⅈ⋅t⋅ω_d           ⎞ \n",
       "n(t⋅ω_d)⎟         ⎜f⋅ℯ   ⋅ℯ       ⋅cos(t⋅ω_d)   f⋅ℯ    ⋅ℯ        ⋅cos(t⋅ω_d)⎟ \n",
       "────────⎟⋅False + ⎜────────────────────────── + ────────────────────────────⎟⋅\n",
       "        ⎠         ⎝            2                             2              ⎠ \n",
       "\n",
       "     \n",
       "     \n",
       "False\n",
       "     "
      ]
     },
     "execution_count": 6,
     "metadata": {},
     "output_type": "execute_result"
    }
   ],
   "source": [
    "H2 = collect(H1.expand(), (sx, sy, sz))\n",
    "Eq(Hsym, H2)"
   ]
  },
  {
   "cell_type": "code",
   "execution_count": 7,
   "metadata": {},
   "outputs": [
    {
     "data": {
      "image/png": "[encoded data removed]",
      "text/latex": [
       "$$H = i f \\left(\\frac{e^{i φ} e^{2 i t ω_{d}}}{4} - \\frac{e^{i φ}}{4} + \\frac{e^{- i φ}}{4} - \\frac{e^{- i φ} e^{- 2 i t ω_{d}}}{4}\\right) {\\sigma_y} + f \\left(\\frac{e^{i φ} e^{2 i t ω_{d}}}{4} + \\frac{e^{i φ}}{4} + \\frac{e^{- i φ}}{4} + \\frac{e^{- i φ} e^{- 2 i t ω_{d}}}{4}\\right) {\\sigma_x} + \\left(- \\frac{ω_{d}}{2} + \\frac{ω_{q}}{2}\\right) {\\sigma_z}$$"
      ],
      "text/plain": [
       "        ⎛ ⅈ⋅φ  2⋅ⅈ⋅t⋅ω_d    ⅈ⋅φ    -ⅈ⋅φ    -ⅈ⋅φ  -2⋅ⅈ⋅t⋅ω_d⎞           ⎛ ⅈ⋅φ  \n",
       "        ⎜ℯ   ⋅ℯ            ℯ      ℯ       ℯ    ⋅ℯ          ⎟           ⎜ℯ   ⋅ℯ\n",
       "H = ⅈ⋅f⋅⎜─────────────── - ──── + ───── - ─────────────────⎟⋅False + f⋅⎜──────\n",
       "        ⎝       4           4       4             4        ⎠           ⎝      \n",
       "\n",
       "2⋅ⅈ⋅t⋅ω_d    ⅈ⋅φ    -ⅈ⋅φ    -ⅈ⋅φ  -2⋅ⅈ⋅t⋅ω_d⎞                            \n",
       "            ℯ      ℯ       ℯ    ⋅ℯ          ⎟         ⎛  ω_d   ω_q⎞      \n",
       "───────── + ──── + ───── + ─────────────────⎟⋅False + ⎜- ─── + ───⎟⋅False\n",
       " 4           4       4             4        ⎠         ⎝   2     2 ⎠      "
      ]
     },
     "execution_count": 7,
     "metadata": {},
     "output_type": "execute_result"
    }
   ],
   "source": [
    "H2 = simplify(H2.subs(sin(𝑡*Omega_d), (exp(I*𝑡*Omega_d)-exp(-I*𝑡*Omega_d))/2/I))\n",
    "H2 = simplify(H2.subs(cos(𝑡*Omega_d), (exp(I*𝑡*Omega_d)+exp(-I*𝑡*Omega_d))/2))\n",
    "\n",
    "H3 = collect(H2.expand(), (f*sx/2, sz, I*f*sy/2))\n",
    "\n",
    "Eq(Hsym, H3)"
   ]
  },
  {
   "cell_type": "code",
   "execution_count": 19,
   "metadata": {},
   "outputs": [
    {
     "data": {
      "image/png": "[encoded data removed]",
      "text/latex": [
       "$$H = i f \\left(- \\frac{e^{i φ}}{4} + \\frac{e^{- i φ}}{4}\\right) {\\sigma_y} + f \\left(\\frac{e^{i φ}}{4} + \\frac{e^{- i φ}}{4}\\right) {\\sigma_x} + \\left(- \\frac{ω_{d}}{2} + \\frac{ω_{q}}{2}\\right) {\\sigma_z}$$"
      ],
      "text/plain": [
       "        ⎛   ⅈ⋅φ    -ⅈ⋅φ⎞           ⎛ ⅈ⋅φ    -ⅈ⋅φ⎞                            \n",
       "        ⎜  ℯ      ℯ    ⎟           ⎜ℯ      ℯ    ⎟         ⎛  ω_d   ω_q⎞      \n",
       "H = ⅈ⋅f⋅⎜- ──── + ─────⎟⋅False + f⋅⎜──── + ─────⎟⋅False + ⎜- ─── + ───⎟⋅False\n",
       "        ⎝   4       4  ⎠           ⎝ 4       4  ⎠         ⎝   2     2 ⎠      "
      ]
     },
     "execution_count": 19,
     "metadata": {},
     "output_type": "execute_result"
    }
   ],
   "source": [
    "#RWA\n",
    "\n",
    "H3 = collect(H3.expand(), (exp(2*I*𝑡*Omega_d), exp(-2 * I * Omega_d * t), sz))\n",
    "H4 = drop_terms_containing(H3, [exp(2*I*𝑡*Omega_d), exp(-2 * I * Omega_d * t)])\n",
    "H4 = collect(H4.expand(), (f*sx, f*sy*I, sz))\n",
    "\n",
    "Eq(Hsym, H4)"
   ]
  },
  {
   "cell_type": "code",
   "execution_count": 48,
   "metadata": {},
   "outputs": [
    {
     "data": {
      "image/png": "[encoded data removed]",
      "text/latex": [
       "$$L_{op} = \\sqrt{γ} \\left({\\sigma_x} - i {\\sigma_y}\\right) + \\frac{\\sqrt{2} \\sqrt{γ_{ϕ}} {\\sigma_z}}{2}$$"
      ],
      "text/plain": [
       "                                  _____      \n",
       "                             √2⋅╲╱ γ_ϕ ⋅False\n",
       "Lₒₚ = √γ⋅(False - ⅈ⋅False) + ────────────────\n",
       "                                    2        "
      ]
     },
     "execution_count": 48,
     "metadata": {},
     "output_type": "execute_result"
    }
   ],
   "source": [
    "# Lindblad equation\n",
    "\n",
    "ρ_11 = Function(\"ρ_11\")(t)\n",
    "ρ_12 = Function(\"ρ_12\")(t)\n",
    "ρ_21 = Function(\"ρ_21\")(t)\n",
    "ρ_22 = Function(\"ρ_22\")(t)\n",
    "rho = Matrix([[ρ_11,ρ_12],[ρ_21, 1-ρ_11]]) \n",
    "\n",
    "\n",
    "γ = Symbol(\"γ\", real=True, positive=True)\n",
    "γ_ϕ = Symbol(\"γ_ϕ\", real=True, positive=True)\n",
    "t = Symbol(\"t\", real=True, positive=True)\n",
    "L_op = Symbol(\"L_op\", real=True, positive=True)\n",
    "\n",
    "\n",
    "L_ϕ = sqrt(γ_ϕ/2)*sz\n",
    "L_r = sqrt(γ)*sm\n",
    "\n",
    "L = L_ϕ + L_r\n",
    "Eq(L_op, L)"
   ]
  },
  {
   "cell_type": "code",
   "execution_count": 49,
   "metadata": {},
   "outputs": [
    {
     "data": {
      "image/png": "[encoded data removed]",
      "text/latex": [
       "$$\\left [ \\frac{d}{d t} \\operatorname{ρ_{11}}{\\left (t \\right )} = \\frac{\\operatorname{ρ_{11}}{\\left (t \\right )} \\left(\\sqrt{γ} \\left({\\sigma_x} - i {\\sigma_y}\\right) + \\frac{\\sqrt{2} \\sqrt{γ_{ϕ}} {\\sigma_z}}{2}\\right) \\left(\\sqrt{γ} \\left({\\sigma_x} + i {\\sigma_y}\\right) + \\frac{\\sqrt{2} \\sqrt{γ_{ϕ}} {\\sigma_z}}{2}\\right)}{2} - \\frac{\\operatorname{ρ_{11}}{\\left (t \\right )} \\left(\\sqrt{γ} \\left({\\sigma_x} + i {\\sigma_y}\\right) + \\frac{\\sqrt{2} \\sqrt{γ_{ϕ}} {\\sigma_z}}{2}\\right) \\left(\\sqrt{γ} \\left({\\sigma_x} - i {\\sigma_y}\\right) + \\frac{\\sqrt{2} \\sqrt{γ_{ϕ}} {\\sigma_z}}{2}\\right)}{2}, \\quad \\frac{d}{d t} \\operatorname{ρ_{12}}{\\left (t \\right )} = \\frac{\\operatorname{ρ_{12}}{\\left (t \\right )} \\left(\\sqrt{γ} \\left({\\sigma_x} - i {\\sigma_y}\\right) + \\frac{\\sqrt{2} \\sqrt{γ_{ϕ}} {\\sigma_z}}{2}\\right) \\left(\\sqrt{γ} \\left({\\sigma_x} + i {\\sigma_y}\\right) + \\frac{\\sqrt{2} \\sqrt{γ_{ϕ}} {\\sigma_z}}{2}\\right)}{2} - \\frac{\\operatorname{ρ_{12}}{\\left (t \\right )} \\left(\\sqrt{γ} \\left({\\sigma_x} + i {\\sigma_y}\\right) + \\frac{\\sqrt{2} \\sqrt{γ_{ϕ}} {\\sigma_z}}{2}\\right) \\left(\\sqrt{γ} \\left({\\sigma_x} - i {\\sigma_y}\\right) + \\frac{\\sqrt{2} \\sqrt{γ_{ϕ}} {\\sigma_z}}{2}\\right)}{2}, \\quad \\frac{d}{d t} \\operatorname{ρ_{21}}{\\left (t \\right )} = \\frac{\\operatorname{ρ_{21}}{\\left (t \\right )} \\left(\\sqrt{γ} \\left({\\sigma_x} - i {\\sigma_y}\\right) + \\frac{\\sqrt{2} \\sqrt{γ_{ϕ}} {\\sigma_z}}{2}\\right) \\left(\\sqrt{γ} \\left({\\sigma_x} + i {\\sigma_y}\\right) + \\frac{\\sqrt{2} \\sqrt{γ_{ϕ}} {\\sigma_z}}{2}\\right)}{2} - \\frac{\\operatorname{ρ_{21}}{\\left (t \\right )} \\left(\\sqrt{γ} \\left({\\sigma_x} + i {\\sigma_y}\\right) + \\frac{\\sqrt{2} \\sqrt{γ_{ϕ}} {\\sigma_z}}{2}\\right) \\left(\\sqrt{γ} \\left({\\sigma_x} - i {\\sigma_y}\\right) + \\frac{\\sqrt{2} \\sqrt{γ_{ϕ}} {\\sigma_z}}{2}\\right)}{2}, \\quad \\frac{d}{d t} \\operatorname{ρ_{22}}{\\left (t \\right )} = \\frac{\\left(- \\operatorname{ρ_{11}}{\\left (t \\right )} + 1\\right) \\left(\\sqrt{γ} \\left({\\sigma_x} - i {\\sigma_y}\\right) + \\frac{\\sqrt{2} \\sqrt{γ_{ϕ}} {\\sigma_z}}{2}\\right) \\left(\\sqrt{γ} \\left({\\sigma_x} + i {\\sigma_y}\\right) + \\frac{\\sqrt{2} \\sqrt{γ_{ϕ}} {\\sigma_z}}{2}\\right)}{2} - \\frac{\\left(- \\operatorname{ρ_{11}}{\\left (t \\right )} + 1\\right) \\left(\\sqrt{γ} \\left({\\sigma_x} + i {\\sigma_y}\\right) + \\frac{\\sqrt{2} \\sqrt{γ_{ϕ}} {\\sigma_z}}{2}\\right) \\left(\\sqrt{γ} \\left({\\sigma_x} - i {\\sigma_y}\\right) + \\frac{\\sqrt{2} \\sqrt{γ_{ϕ}} {\\sigma_z}}{2}\\right)}{2}\\right ]$$"
      ],
      "text/plain": [
       "⎡                    ⎛                            _____      ⎞ ⎛              \n",
       "⎢                    ⎜                       √2⋅╲╱ γ_ϕ ⋅False⎟ ⎜              \n",
       "⎢             ρ₁₁(t)⋅⎜√γ⋅(False - ⅈ⋅False) + ────────────────⎟⋅⎜√γ⋅(False + ⅈ⋅\n",
       "⎢d                   ⎝                              2        ⎠ ⎝              \n",
       "⎢──(ρ₁₁(t)) = ────────────────────────────────────────────────────────────────\n",
       "⎣dt                                                       2                   \n",
       "\n",
       "              _____      ⎞          ⎛                            _____      ⎞ \n",
       "         √2⋅╲╱ γ_ϕ ⋅False⎟          ⎜                       √2⋅╲╱ γ_ϕ ⋅False⎟ \n",
       "False) + ────────────────⎟   ρ₁₁(t)⋅⎜√γ⋅(False + ⅈ⋅False) + ────────────────⎟⋅\n",
       "                2        ⎠          ⎝                              2        ⎠ \n",
       "────────────────────────── - ─────────────────────────────────────────────────\n",
       "                                                                         2    \n",
       "\n",
       "⎛                            _____      ⎞                      ⎛              \n",
       "⎜                       √2⋅╲╱ γ_ϕ ⋅False⎟                      ⎜              \n",
       "⎜√γ⋅(False - ⅈ⋅False) + ────────────────⎟               ρ₁₂(t)⋅⎜√γ⋅(False - ⅈ⋅\n",
       "⎝                              2        ⎠  d                   ⎝              \n",
       "─────────────────────────────────────────, ──(ρ₁₂(t)) = ──────────────────────\n",
       "                                           dt                                 \n",
       "\n",
       "              _____      ⎞ ⎛                            _____      ⎞          \n",
       "         √2⋅╲╱ γ_ϕ ⋅False⎟ ⎜                       √2⋅╲╱ γ_ϕ ⋅False⎟          \n",
       "False) + ────────────────⎟⋅⎜√γ⋅(False + ⅈ⋅False) + ────────────────⎟   ρ₁₂(t)⋅\n",
       "                2        ⎠ ⎝                              2        ⎠          \n",
       "──────────────────────────────────────────────────────────────────── - ───────\n",
       "                      2                                                       \n",
       "\n",
       "⎛                            _____      ⎞ ⎛                            _____  \n",
       "⎜                       √2⋅╲╱ γ_ϕ ⋅False⎟ ⎜                       √2⋅╲╱ γ_ϕ ⋅F\n",
       "⎜√γ⋅(False + ⅈ⋅False) + ────────────────⎟⋅⎜√γ⋅(False - ⅈ⋅False) + ────────────\n",
       "⎝                              2        ⎠ ⎝                              2    \n",
       "──────────────────────────────────────────────────────────────────────────────\n",
       "                                     2                                        \n",
       "\n",
       "    ⎞                      ⎛                            _____      ⎞ ⎛        \n",
       "alse⎟                      ⎜                       √2⋅╲╱ γ_ϕ ⋅False⎟ ⎜        \n",
       "────⎟               ρ₂₁(t)⋅⎜√γ⋅(False - ⅈ⋅False) + ────────────────⎟⋅⎜√γ⋅(Fals\n",
       "    ⎠  d                   ⎝                              2        ⎠ ⎝        \n",
       "─────, ──(ρ₂₁(t)) = ──────────────────────────────────────────────────────────\n",
       "       dt                                                       2             \n",
       "\n",
       "                    _____      ⎞          ⎛                            _____  \n",
       "               √2⋅╲╱ γ_ϕ ⋅False⎟          ⎜                       √2⋅╲╱ γ_ϕ ⋅F\n",
       "e + ⅈ⋅False) + ────────────────⎟   ρ₂₁(t)⋅⎜√γ⋅(False + ⅈ⋅False) + ────────────\n",
       "                      2        ⎠          ⎝                              2    \n",
       "──────────────────────────────── - ───────────────────────────────────────────\n",
       "                                                                              \n",
       "\n",
       "    ⎞ ⎛                            _____      ⎞                             ⎛ \n",
       "alse⎟ ⎜                       √2⋅╲╱ γ_ϕ ⋅False⎟                             ⎜ \n",
       "────⎟⋅⎜√γ⋅(False - ⅈ⋅False) + ────────────────⎟               (-ρ₁₁(t) + 1)⋅⎜√\n",
       "    ⎠ ⎝                              2        ⎠  d                          ⎝ \n",
       "───────────────────────────────────────────────, ──(ρ₂₂(t)) = ────────────────\n",
       " 2                                               dt                           \n",
       "\n",
       "                           _____      ⎞ ⎛                            _____    \n",
       "                      √2⋅╲╱ γ_ϕ ⋅False⎟ ⎜                       √2⋅╲╱ γ_ϕ ⋅Fal\n",
       "γ⋅(False - ⅈ⋅False) + ────────────────⎟⋅⎜√γ⋅(False + ⅈ⋅False) + ──────────────\n",
       "                             2        ⎠ ⎝                              2      \n",
       "──────────────────────────────────────────────────────────────────────────────\n",
       "                                2                                             \n",
       "\n",
       "  ⎞                 ⎛                            _____      ⎞ ⎛               \n",
       "se⎟                 ⎜                       √2⋅╲╱ γ_ϕ ⋅False⎟ ⎜               \n",
       "──⎟   (-ρ₁₁(t) + 1)⋅⎜√γ⋅(False + ⅈ⋅False) + ────────────────⎟⋅⎜√γ⋅(False - ⅈ⋅F\n",
       "  ⎠                 ⎝                              2        ⎠ ⎝               \n",
       "─── - ────────────────────────────────────────────────────────────────────────\n",
       "                                                      2                       \n",
       "\n",
       "             _____      ⎞⎤\n",
       "        √2⋅╲╱ γ_ϕ ⋅False⎟⎥\n",
       "alse) + ────────────────⎟⎥\n",
       "               2        ⎠⎥\n",
       "─────────────────────────⎥\n",
       "                         ⎦"
      ]
     },
     "execution_count": 49,
     "metadata": {},
     "output_type": "execute_result"
    }
   ],
   "source": [
    "L = operator_lindblad_dissipator(L, rho)\n",
    "\n",
    "L = I*(rho*H - H*rho) + L\n",
    "\n",
    "diffs = Matrix([[diff(ρ_11), diff(ρ_12)], [diff(ρ_21), diff(ρ_22)]])\n",
    "\n",
    "odes = [Eq(diff, right) for diff, right in zip(list(diffs), list(L))][:4]\n",
    "\n",
    "odes"
   ]
  },
  {
   "cell_type": "code",
   "execution_count": null,
   "metadata": {},
   "outputs": [],
   "source": []
  }
 ],
 "metadata": {
  "kernelspec": {
   "display_name": "Python 3",
   "language": "python",
   "name": "python3"
  },
  "language_info": {
   "codemirror_mode": {
    "name": "ipython",
    "version": 3
   },
   "file_extension": ".py",
   "mimetype": "text/x-python",
   "name": "python",
   "nbconvert_exporter": "python",
   "pygments_lexer": "ipython3",
   "version": "3.7.3"
  }
 },
 "nbformat": 4,
 "nbformat_minor": 2
}
