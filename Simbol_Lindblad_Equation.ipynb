{
 "cells": [
  {
   "cell_type": "code",
   "execution_count": 52,
   "metadata": {},
   "outputs": [],
   "source": [
    "import numpy as np\n",
    "from sympy import *\n",
    "init_printing() \n",
    "\n",
    "from sympsi import *\n",
    "from sympsi.boson import *\n",
    "from sympsi.pauli import *\n",
    "from sympsi.expectation import *\n",
    "from sympsi.operatorordering import *\n",
    "from sympsi.operator import OperatorFunction\n",
    "from sympy.solvers.ode import _linear_neq_order1_type1\n",
    "\n",
    "\n",
    "%matplotlib inline\n",
    "import matplotlib.pyplot as plt"
   ]
  },
  {
   "cell_type": "code",
   "execution_count": 2,
   "metadata": {},
   "outputs": [],
   "source": [
    "theta, t, phi, f = symbols(\"θ, t, φ, f\")\n",
    "eps, Delta, Omega_q, Omega_d = symbols(\"ε, Δ, ω_q, ω_d\",real=True, positive=True)\n",
    "Hsym = symbols(\"H\")\n",
    "\n",
    "sx, sy, sz = SigmaX(), SigmaY(), SigmaZ()\n",
    "sm = sx-I*sy"
   ]
  },
  {
   "cell_type": "code",
   "execution_count": 3,
   "metadata": {},
   "outputs": [
    {
     "data": {
      "image/png": "[encoded data removed]",
      "text/latex": [
       "$$H = \\frac{f \\left(e^{i \\left(t ω_{d} + φ\\right)} + e^{- i \\left(t ω_{d} + φ\\right)}\\right) {\\sigma_x}}{2} + \\frac{ω_{q} {\\sigma_z}}{2}$$"
      ],
      "text/plain": [
       "      ⎛ ⅈ⋅(t⋅ω_d + φ)    -ⅈ⋅(t⋅ω_d + φ)⎞                  \n",
       "    f⋅⎝ℯ              + ℯ              ⎠⋅False   ω_q⋅False\n",
       "H = ────────────────────────────────────────── + ─────────\n",
       "                        2                            2    "
      ]
     },
     "execution_count": 3,
     "metadata": {},
     "output_type": "execute_result"
    }
   ],
   "source": [
    "Hq = Omega_q/2 * sz\n",
    "arg = Omega_d*t+phi\n",
    "Hd = f*sx*(exp(I*arg)+exp(-I*arg))/2\n",
    "\n",
    "H = Hq+Hd\n",
    "\n",
    "Eq(Hsym, H)"
   ]
  },
  {
   "cell_type": "code",
   "execution_count": 4,
   "metadata": {},
   "outputs": [
    {
     "data": {
      "image/png": "[encoded data removed]",
      "text/latex": [
       "$$e^{\\frac{i t ω_{d} {\\sigma_z}}{2}}$$"
      ],
      "text/plain": [
       " ⅈ⋅t⋅ω_d⋅False\n",
       " ─────────────\n",
       "       2      \n",
       "ℯ             "
      ]
     },
     "execution_count": 4,
     "metadata": {},
     "output_type": "execute_result"
    }
   ],
   "source": [
    "U = exp(I * Omega_d/2 * sz * t); U"
   ]
  },
  {
   "cell_type": "code",
   "execution_count": 5,
   "metadata": {},
   "outputs": [
    {
     "data": {
      "image/png": "[encoded data removed]",
      "text/latex": [
       "$$H = \\frac{f \\left(e^{i \\left(t ω_{d} + φ\\right)} + e^{- i \\left(t ω_{d} + φ\\right)}\\right) \\left(- \\sin{\\left (t ω_{d} \\right )} {\\sigma_y} + \\cos{\\left (t ω_{d} \\right )} {\\sigma_x}\\right)}{2} - \\frac{ω_{d} {\\sigma_z}}{2} + \\frac{ω_{q} {\\sigma_z}}{2}$$"
      ],
      "text/plain": [
       "      ⎛ ⅈ⋅(t⋅ω_d + φ)    -ⅈ⋅(t⋅ω_d + φ)⎞                                      \n",
       "    f⋅⎝ℯ              + ℯ              ⎠⋅(-sin(t⋅ω_d)⋅False + cos(t⋅ω_d)⋅False\n",
       "H = ──────────────────────────────────────────────────────────────────────────\n",
       "                                         2                                    \n",
       "\n",
       "                         \n",
       ")   ω_d⋅False   ω_q⋅False\n",
       "─ - ───────── + ─────────\n",
       "        2           2    "
      ]
     },
     "execution_count": 5,
     "metadata": {},
     "output_type": "execute_result"
    }
   ],
   "source": [
    "H1 = hamiltonian_transformation(U, H)\n",
    "Eq(Hsym, H1)"
   ]
  },
  {
   "cell_type": "code",
   "execution_count": 6,
   "metadata": {},
   "outputs": [
    {
     "data": {
      "image/png": "[encoded data removed]",
      "text/latex": [
       "$$H = \\left(- \\frac{ω_{d}}{2} + \\frac{ω_{q}}{2}\\right) {\\sigma_z} + \\left(- \\frac{f e^{i φ} e^{i t ω_{d}} \\sin{\\left (t ω_{d} \\right )}}{2} - \\frac{f e^{- i φ} e^{- i t ω_{d}} \\sin{\\left (t ω_{d} \\right )}}{2}\\right) {\\sigma_y} + \\left(\\frac{f e^{i φ} e^{i t ω_{d}} \\cos{\\left (t ω_{d} \\right )}}{2} + \\frac{f e^{- i φ} e^{- i t ω_{d}} \\cos{\\left (t ω_{d} \\right )}}{2}\\right) {\\sigma_x}$$"
      ],
      "text/plain": [
       "                          ⎛     ⅈ⋅φ  ⅈ⋅t⋅ω_d                 -ⅈ⋅φ  -ⅈ⋅t⋅ω_d   \n",
       "    ⎛  ω_d   ω_q⎞         ⎜  f⋅ℯ   ⋅ℯ       ⋅sin(t⋅ω_d)   f⋅ℯ    ⋅ℯ        ⋅si\n",
       "H = ⎜- ─── + ───⎟⋅False + ⎜- ────────────────────────── - ────────────────────\n",
       "    ⎝   2     2 ⎠         ⎝              2                             2      \n",
       "\n",
       "        ⎞         ⎛   ⅈ⋅φ  ⅈ⋅t⋅ω_d                 -ⅈ⋅φ  -ⅈ⋅t⋅ω_d           ⎞ \n",
       "n(t⋅ω_d)⎟         ⎜f⋅ℯ   ⋅ℯ       ⋅cos(t⋅ω_d)   f⋅ℯ    ⋅ℯ        ⋅cos(t⋅ω_d)⎟ \n",
       "────────⎟⋅False + ⎜────────────────────────── + ────────────────────────────⎟⋅\n",
       "        ⎠         ⎝            2                             2              ⎠ \n",
       "\n",
       "     \n",
       "     \n",
       "False\n",
       "     "
      ]
     },
     "execution_count": 6,
     "metadata": {},
     "output_type": "execute_result"
    }
   ],
   "source": [
    "H2 = collect(H1.expand(), (sx, sy, sz))\n",
    "Eq(Hsym, H2)"
   ]
  },
  {
   "cell_type": "code",
   "execution_count": 7,
   "metadata": {},
   "outputs": [
    {
     "data": {
      "image/png": "[encoded data removed]",
      "text/latex": [
       "$$H = i f \\left(\\frac{e^{i φ} e^{2 i t ω_{d}}}{4} - \\frac{e^{i φ}}{4} + \\frac{e^{- i φ}}{4} - \\frac{e^{- i φ} e^{- 2 i t ω_{d}}}{4}\\right) {\\sigma_y} + f \\left(\\frac{e^{i φ} e^{2 i t ω_{d}}}{4} + \\frac{e^{i φ}}{4} + \\frac{e^{- i φ}}{4} + \\frac{e^{- i φ} e^{- 2 i t ω_{d}}}{4}\\right) {\\sigma_x} + \\left(- \\frac{ω_{d}}{2} + \\frac{ω_{q}}{2}\\right) {\\sigma_z}$$"
      ],
      "text/plain": [
       "        ⎛ ⅈ⋅φ  2⋅ⅈ⋅t⋅ω_d    ⅈ⋅φ    -ⅈ⋅φ    -ⅈ⋅φ  -2⋅ⅈ⋅t⋅ω_d⎞           ⎛ ⅈ⋅φ  \n",
       "        ⎜ℯ   ⋅ℯ            ℯ      ℯ       ℯ    ⋅ℯ          ⎟           ⎜ℯ   ⋅ℯ\n",
       "H = ⅈ⋅f⋅⎜─────────────── - ──── + ───── - ─────────────────⎟⋅False + f⋅⎜──────\n",
       "        ⎝       4           4       4             4        ⎠           ⎝      \n",
       "\n",
       "2⋅ⅈ⋅t⋅ω_d    ⅈ⋅φ    -ⅈ⋅φ    -ⅈ⋅φ  -2⋅ⅈ⋅t⋅ω_d⎞                            \n",
       "            ℯ      ℯ       ℯ    ⋅ℯ          ⎟         ⎛  ω_d   ω_q⎞      \n",
       "───────── + ──── + ───── + ─────────────────⎟⋅False + ⎜- ─── + ───⎟⋅False\n",
       " 4           4       4             4        ⎠         ⎝   2     2 ⎠      "
      ]
     },
     "execution_count": 7,
     "metadata": {},
     "output_type": "execute_result"
    }
   ],
   "source": [
    "H2 = simplify(H2.subs(sin(𝑡*Omega_d), (exp(I*𝑡*Omega_d)-exp(-I*𝑡*Omega_d))/2/I))\n",
    "H2 = simplify(H2.subs(cos(𝑡*Omega_d), (exp(I*𝑡*Omega_d)+exp(-I*𝑡*Omega_d))/2))\n",
    "\n",
    "H3 = collect(H2.expand(), (f*sx/2, sz, I*f*sy/2))\n",
    "\n",
    "Eq(Hsym, H3)"
   ]
  },
  {
   "cell_type": "code",
   "execution_count": 8,
   "metadata": {},
   "outputs": [
    {
     "data": {
      "image/png": "[encoded data removed]",
      "text/latex": [
       "$$H = i f \\left(- \\frac{e^{i φ}}{4} + \\frac{e^{- i φ}}{4}\\right) {\\sigma_y} + f \\left(\\frac{e^{i φ}}{4} + \\frac{e^{- i φ}}{4}\\right) {\\sigma_x} + \\left(- \\frac{ω_{d}}{2} + \\frac{ω_{q}}{2}\\right) {\\sigma_z}$$"
      ],
      "text/plain": [
       "        ⎛   ⅈ⋅φ    -ⅈ⋅φ⎞           ⎛ ⅈ⋅φ    -ⅈ⋅φ⎞                            \n",
       "        ⎜  ℯ      ℯ    ⎟           ⎜ℯ      ℯ    ⎟         ⎛  ω_d   ω_q⎞      \n",
       "H = ⅈ⋅f⋅⎜- ──── + ─────⎟⋅False + f⋅⎜──── + ─────⎟⋅False + ⎜- ─── + ───⎟⋅False\n",
       "        ⎝   4       4  ⎠           ⎝ 4       4  ⎠         ⎝   2     2 ⎠      "
      ]
     },
     "execution_count": 8,
     "metadata": {},
     "output_type": "execute_result"
    }
   ],
   "source": [
    "#RWA\n",
    "\n",
    "H3 = collect(H3.expand(), (exp(2*I*𝑡*Omega_d), exp(-2 * I * Omega_d * t), sz))\n",
    "H4 = drop_terms_containing(H3, [exp(2*I*𝑡*Omega_d), exp(-2 * I * Omega_d * t)])\n",
    "H4 = collect(H4.expand(), (f*sx, f*sy*I, sz))\n",
    "\n",
    "Eq(Hsym, H4)"
   ]
  },
  {
   "cell_type": "code",
   "execution_count": 9,
   "metadata": {},
   "outputs": [
    {
     "data": {
      "image/png": "[encoded data removed]",
      "text/latex": [
       "$$H = i f \\left(- \\frac{e^{i φ}}{4} + \\frac{e^{- i φ}}{4}\\right) {\\sigma_y} + f \\left(\\frac{e^{i φ}}{4} + \\frac{e^{- i φ}}{4}\\right) {\\sigma_x}$$"
      ],
      "text/plain": [
       "        ⎛   ⅈ⋅φ    -ⅈ⋅φ⎞           ⎛ ⅈ⋅φ    -ⅈ⋅φ⎞      \n",
       "        ⎜  ℯ      ℯ    ⎟           ⎜ℯ      ℯ    ⎟      \n",
       "H = ⅈ⋅f⋅⎜- ──── + ─────⎟⋅False + f⋅⎜──── + ─────⎟⋅False\n",
       "        ⎝   4       4  ⎠           ⎝ 4       4  ⎠      "
      ]
     },
     "execution_count": 9,
     "metadata": {},
     "output_type": "execute_result"
    }
   ],
   "source": [
    "#resonance\n",
    "H4 = collect((H4.subs(Omega_d, Omega_q)).expand(), (f*sx, f*sy*I))\n",
    "H = H4\n",
    "Eq(Hsym, H)"
   ]
  },
  {
   "cell_type": "code",
   "execution_count": 10,
   "metadata": {},
   "outputs": [
    {
     "data": {
      "text/latex": [
       "$$H = \\left[\\begin{matrix}0 & - i\\\\i & 0\\end{matrix}\\right] i f \\left(- \\frac{e^{i φ}}{4} + \\frac{e^{- i φ}}{4}\\right) + \\left[\\begin{matrix}0 & 1\\\\1 & 0\\end{matrix}\\right] f \\left(\\frac{e^{i φ}}{4} + \\frac{e^{- i φ}}{4}\\right)$$"
      ],
      "text/plain": [
       "                ⎛   ⅈ⋅φ    -ⅈ⋅φ⎞            ⎛ ⅈ⋅φ    -ⅈ⋅φ⎞\n",
       "    ⎡0  -ⅈ⎤     ⎜  ℯ      ℯ    ⎟   ⎡0  1⎤   ⎜ℯ      ℯ    ⎟\n",
       "H = ⎢     ⎥⋅ⅈ⋅f⋅⎜- ──── + ─────⎟ + ⎢    ⎥⋅f⋅⎜──── + ─────⎟\n",
       "    ⎣ⅈ  0 ⎦     ⎝   4       4  ⎠   ⎣1  0⎦   ⎝ 4       4  ⎠"
      ]
     },
     "execution_count": 10,
     "metadata": {},
     "output_type": "execute_result"
    }
   ],
   "source": [
    "γ, γ_ϕ, L_op = symbols(\"γ, γ_ϕ, L_op\", real=True, positive=True)\n",
    "\n",
    "\n",
    "ρ_11 = Function(\"ρ_11\")(t)\n",
    "ρ_12 = Function(\"ρ_12\")(t)\n",
    "ρ_21 = Function(\"ρ_21\")(t)\n",
    "ρ_22 = Function(\"ρ_22\")(t) \n",
    "ρ = Matrix([[ρ_11,ρ_12],[ρ_21, 1-ρ_11]]) \n",
    "\n",
    "σ_z = Matrix([[1,0],[0,-1]]) \n",
    "σ_m = Matrix([[0,0],[1,0]]) \n",
    "σ_p = Matrix([[0,1],[0,0]])\n",
    "σ_y = Matrix([[0,-I],[I,0]])\n",
    "σ_x = σ_m+σ_p\n",
    "\n",
    "\n",
    "H = H.subs(sx, σ_x)\n",
    "H = H.subs(sy, σ_y)\n",
    "H = H.subs(sz, σ_z)\n",
    "\n",
    "\n",
    "Eq(Hsym, H)"
   ]
  },
  {
   "cell_type": "code",
   "execution_count": 11,
   "metadata": {},
   "outputs": [
    {
     "data": {
      "text/latex": [
       "$$\\left ( \\left[\\begin{matrix}- γ \\operatorname{ρ_{11}}{\\left (t \\right )} & - \\frac{γ \\operatorname{ρ_{12}}{\\left (t \\right )}}{2}\\\\- \\frac{γ \\operatorname{ρ_{21}}{\\left (t \\right )}}{2} & γ \\operatorname{ρ_{11}}{\\left (t \\right )}\\end{matrix}\\right], \\quad \\left[\\begin{matrix}0 & - γ_{ϕ} \\operatorname{ρ_{12}}{\\left (t \\right )}\\\\- γ_{ϕ} \\operatorname{ρ_{21}}{\\left (t \\right )} & 0\\end{matrix}\\right], \\quad \\left[\\begin{matrix}0 & 0\\\\0 & 0\\end{matrix}\\right]\\right )$$"
      ],
      "text/plain": [
       "⎛⎡            -γ⋅ρ₁₂(t) ⎤                                    ⎞\n",
       "⎜⎢-γ⋅ρ₁₁(t)   ──────────⎥                                    ⎟\n",
       "⎜⎢                2     ⎥  ⎡     0       -γ_ϕ⋅ρ₁₂(t)⎤  ⎡0  0⎤⎟\n",
       "⎜⎢                      ⎥, ⎢                        ⎥, ⎢    ⎥⎟\n",
       "⎜⎢-γ⋅ρ₂₁(t)             ⎥  ⎣-γ_ϕ⋅ρ₂₁(t)       0     ⎦  ⎣0  0⎦⎟\n",
       "⎜⎢──────────   γ⋅ρ₁₁(t) ⎥                                    ⎟\n",
       "⎝⎣    2                 ⎦                                    ⎠"
      ]
     },
     "execution_count": 11,
     "metadata": {},
     "output_type": "execute_result"
    }
   ],
   "source": [
    "# Lindblad equation\n",
    "L_r = sqrt(γ)*σ_m \n",
    "L_ϕ = sqrt(γ_ϕ/2)*σ_z\n",
    "\n",
    "def D(O, ρ):\n",
    "    return O*ρ*O.adjoint() - ρ*O.adjoint()*O/2 - O.adjoint()*O*ρ/2\n",
    "def Comm(H, ρ):\n",
    "    return -I*(H*ρ - ρ*H)\n",
    "\n",
    "D(L_r, ρ), D(L_ϕ, ρ), Comm(H, ρ)"
   ]
  },
  {
   "cell_type": "code",
   "execution_count": 12,
   "metadata": {},
   "outputs": [
    {
     "data": {
      "text/latex": [
       "$$\\left[\\begin{matrix}- γ \\operatorname{ρ_{11}}{\\left (t \\right )} & - \\frac{\\left(γ + 2 γ_{ϕ}\\right) \\operatorname{ρ_{12}}{\\left (t \\right )}}{2}\\\\- \\frac{\\left(γ + 2 γ_{ϕ}\\right) \\operatorname{ρ_{21}}{\\left (t \\right )}}{2} & γ \\operatorname{ρ_{11}}{\\left (t \\right )}\\end{matrix}\\right]$$"
      ],
      "text/plain": [
       "⎡                      -(γ + 2⋅γ_ϕ)⋅ρ₁₂(t) ⎤\n",
       "⎢     -γ⋅ρ₁₁(t)        ────────────────────⎥\n",
       "⎢                               2          ⎥\n",
       "⎢                                          ⎥\n",
       "⎢-(γ + 2⋅γ_ϕ)⋅ρ₂₁(t)                       ⎥\n",
       "⎢────────────────────        γ⋅ρ₁₁(t)      ⎥\n",
       "⎣         2                                ⎦"
      ]
     },
     "execution_count": 12,
     "metadata": {},
     "output_type": "execute_result"
    }
   ],
   "source": [
    "L = Comm(H, ρ)+D(L_ϕ, ρ)+D(L_r, ρ)\n",
    "simplify(L)"
   ]
  },
  {
   "cell_type": "code",
   "execution_count": 13,
   "metadata": {},
   "outputs": [
    {
     "data": {
      "text/latex": [
       "$$\\left[\\begin{matrix}\\frac{d}{d t} \\operatorname{ρ_{11}}{\\left (t \\right )} & \\frac{d}{d t} \\operatorname{ρ_{12}}{\\left (t \\right )}\\\\\\frac{d}{d t} \\operatorname{ρ_{21}}{\\left (t \\right )} & \\frac{d}{d t} \\operatorname{ρ_{22}}{\\left (t \\right )}\\end{matrix}\\right]$$"
      ],
      "text/plain": [
       "⎡d           d         ⎤\n",
       "⎢──(ρ₁₁(t))  ──(ρ₁₂(t))⎥\n",
       "⎢dt          dt        ⎥\n",
       "⎢                      ⎥\n",
       "⎢d           d         ⎥\n",
       "⎢──(ρ₂₁(t))  ──(ρ₂₂(t))⎥\n",
       "⎣dt          dt        ⎦"
      ]
     },
     "execution_count": 13,
     "metadata": {},
     "output_type": "execute_result"
    }
   ],
   "source": [
    "diffs = Matrix([[diff(ρ_11), diff(ρ_12)], [diff(ρ_21), diff(ρ_22)]])\n",
    "diffs"
   ]
  },
  {
   "cell_type": "code",
   "execution_count": 14,
   "metadata": {},
   "outputs": [
    {
     "data": {
      "image/png": "[encoded data removed]",
      "text/latex": [
       "$$\\left [ \\frac{d}{d t} \\operatorname{ρ_{11}}{\\left (t \\right )} = - γ \\operatorname{ρ_{11}}{\\left (t \\right )}, \\quad \\frac{d}{d t} \\operatorname{ρ_{12}}{\\left (t \\right )} = - \\frac{γ \\operatorname{ρ_{12}}{\\left (t \\right )}}{2} - γ_{ϕ} \\operatorname{ρ_{12}}{\\left (t \\right )}, \\quad \\frac{d}{d t} \\operatorname{ρ_{21}}{\\left (t \\right )} = - \\frac{γ \\operatorname{ρ_{21}}{\\left (t \\right )}}{2} - γ_{ϕ} \\operatorname{ρ_{21}}{\\left (t \\right )}, \\quad \\frac{d}{d t} \\operatorname{ρ_{22}}{\\left (t \\right )} = γ \\operatorname{ρ_{11}}{\\left (t \\right )}\\right ]$$"
      ],
      "text/plain": [
       "⎡d                       d              γ⋅ρ₁₂(t)               d              \n",
       "⎢──(ρ₁₁(t)) = -γ⋅ρ₁₁(t), ──(ρ₁₂(t)) = - ──────── - γ_ϕ⋅ρ₁₂(t), ──(ρ₂₁(t)) = - \n",
       "⎣dt                      dt                2                   dt             \n",
       "\n",
       "γ⋅ρ₂₁(t)               d                    ⎤\n",
       "──────── - γ_ϕ⋅ρ₂₁(t), ──(ρ₂₂(t)) = γ⋅ρ₁₁(t)⎥\n",
       "   2                   dt                   ⎦"
      ]
     },
     "execution_count": 14,
     "metadata": {},
     "output_type": "execute_result"
    }
   ],
   "source": [
    "odes = [Eq(diff, right) for diff, right in zip(list(diffs), list(L))][:4]\n",
    "odes"
   ]
  },
  {
   "cell_type": "code",
   "execution_count": 16,
   "metadata": {},
   "outputs": [
    {
     "data": {
      "image/png": "[encoded data removed]",
      "text/latex": [
       "$$\\frac{d}{d t} \\operatorname{ρ_{12}}{\\left (t \\right )} = - \\frac{γ \\operatorname{ρ_{12}}{\\left (t \\right )}}{2} - γ_{ϕ} \\operatorname{ρ_{12}}{\\left (t \\right )}$$"
      ],
      "text/plain": [
       "d              γ⋅ρ₁₂(t)             \n",
       "──(ρ₁₂(t)) = - ──────── - γ_ϕ⋅ρ₁₂(t)\n",
       "dt                2                 "
      ]
     },
     "execution_count": 16,
     "metadata": {},
     "output_type": "execute_result"
    }
   ],
   "source": [
    "odes[0]"
   ]
  },
  {
   "cell_type": "code",
   "execution_count": 55,
   "metadata": {},
   "outputs": [
    {
     "data": {
      "image/png": "[encoded data removed]",
      "text/latex": [
       "$$\\left [ \\operatorname{ρ_{11}}{\\left (t \\right )} = C_{1} e^{- t γ}, \\quad \\operatorname{ρ_{12}}{\\left (t \\right )} = C_{1} e^{t \\left(- \\frac{γ}{2} - γ_{ϕ}\\right)}, \\quad \\operatorname{ρ_{21}}{\\left (t \\right )} = C_{1} e^{t \\left(- \\frac{γ}{2} - γ_{ϕ}\\right)}, \\quad \\operatorname{ρ_{22}}{\\left (t \\right )} = C_{1} + γ \\int \\operatorname{ρ_{11}}{\\left (t \\right )}\\, dt\\right ]$$"
      ],
      "text/plain": [
       "⎡                                  ⎛  γ      ⎞                 ⎛  γ      ⎞    \n",
       "⎢                                t⋅⎜- ─ - γ_ϕ⎟               t⋅⎜- ─ - γ_ϕ⎟    \n",
       "⎢             -t⋅γ                 ⎝  2      ⎠                 ⎝  2      ⎠    \n",
       "⎢ρ₁₁(t) = C₁⋅ℯ    , ρ₁₂(t) = C₁⋅ℯ             , ρ₂₁(t) = C₁⋅ℯ             , ρ₂\n",
       "⎣                                                                             \n",
       "\n",
       "                         ⎤\n",
       "                         ⎥\n",
       "              ⌠          ⎥\n",
       "₂(t) = C₁ + γ⋅⎮ ρ₁₁(t) dt⎥\n",
       "              ⌡          ⎦"
      ]
     },
     "execution_count": 55,
     "metadata": {},
     "output_type": "execute_result"
    }
   ],
   "source": [
    "ans0 = dsolve(odes[0]) \n",
    "ans1 = dsolve(odes[1]) \n",
    "ans2 = dsolve(odes[2]) \n",
    "ans3 = dsolve(odes[3]) \n",
    "\n",
    "ans=[ans0, ans1, ans2, ans3]\n",
    "\n",
    "ans"
   ]
  }
 ],
 "metadata": {
  "kernelspec": {
   "display_name": "Python 3",
   "language": "python",
   "name": "python3"
  },
  "language_info": {
   "codemirror_mode": {
    "name": "ipython",
    "version": 3
   },
   "file_extension": ".py",
   "mimetype": "text/x-python",
   "name": "python",
   "nbconvert_exporter": "python",
   "pygments_lexer": "ipython3",
   "version": "3.7.3"
  }
 },
 "nbformat": 4,
 "nbformat_minor": 2
}
