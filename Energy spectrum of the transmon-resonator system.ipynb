{
 "cells": [
  {
   "cell_type": "code",
   "execution_count": 56,
   "metadata": {},
   "outputs": [],
   "source": [
    "import matplotlib.pyplot as plt\n",
    "import numpy as np\n",
    "\n",
    "from sympy import *\n",
    "from sympsi import *\n",
    "from sympsi.boson import *\n",
    "from sympsi.pauli import *\n",
    "from sympsi.expectation import *\n",
    "from sympsi.operatorordering import *\n",
    "from sympsi.operator import OperatorFunction\n",
    "from sympy.solvers.ode import _linear_neq_order1_type1"
   ]
  },
  {
   "cell_type": "code",
   "execution_count": 57,
   "metadata": {},
   "outputs": [],
   "source": [
    "fr0 = 6e9  #resonator frequency\n",
    "Om_r = fr0*2*np.pi\n",
    "OmQ = 5.3e9 #qubit frequency from experiment\n",
    "\n",
    "e = 1.6e-19\n",
    "\n",
    "Ck = 5e-15\n",
    "Cg = 2e-15\n",
    "Cq = 90e-15\n",
    "Cr = 500e-15\n",
    "Lr = 2e-9\n",
    "Cs = 50e-15 #чиселко из ниоткуда, но большое\n",
    "\n",
    "Csum = Cg + Cs\n",
    "\n",
    "E_C = 200e6  \n",
    "E_J_max = (5.3e9+E_C)**2/(8*E_C) #from frequency at sweet spot\n",
    "a = 10  #inequality of Josephson junctions\n",
    "E_J1 = E_J_max/(1+a)\n",
    "E_J2 = a*E_J1\n",
    "E_J = E_J1+E_J2\n",
    "\n",
    "Vrms = np.sqrt(Om_r/2/Cr)\n",
    "beta = Cg/Csum\n",
    "Cog = (E_C/8/E_J)**(1/4)\n",
    "\n",
    "g01 = 2*beta*e*Vrms*Cog*np.sqrt(1/2)\n",
    "g12 = 2*beta*e*Vrms*Cog\n",
    "\n",
    "chi01 = g01/(OmQ-Om_r)\n",
    "chi12 = g12/(OmQ-E_C-Om_r)"
   ]
  },
  {
   "cell_type": "code",
   "execution_count": 58,
   "metadata": {},
   "outputs": [],
   "source": [
    "Om_r_sh = Om_r - chi12/2\n",
    "Om_q = (OmQ + chi12)/2\n",
    "chi = chi01-chi12/2"
   ]
  },
  {
   "cell_type": "code",
   "execution_count": 59,
   "metadata": {},
   "outputs": [
    {
     "data": {
      "text/plain": [
       "[16139644737231/400, 14549644737231/200]"
      ]
     },
     "execution_count": 59,
     "metadata": {},
     "output_type": "execute_result"
    }
   ],
   "source": [
    "aa = Matrix([[1,0],[0,2]])\n",
    "sz = Matrix([[1,0],[0,-1]])\n",
    "I = Matrix([[1,0],[0,1]])\n",
    "\n",
    "H = Om_q*sz + (Om_r_sh*I + chi*sz)*aa\n",
    "H[1,1]/1e10\n",
    "\n",
    "E = H.eigenvals()\n",
    "E1 = 16139644737231./400\n",
    "E2 = 14549644737231/200\n",
    "list(E)"
   ]
  },
  {
   "cell_type": "code",
   "execution_count": 60,
   "metadata": {},
   "outputs": [
    {
     "data": {
      "image/png": "[encoded data removed]",
      "text/plain": [
       "<Figure size 432x288 with 1 Axes>"
      ]
     },
     "metadata": {
      "needs_background": "light"
     },
     "output_type": "display_data"
    }
   ],
   "source": [
    "fig, ax = plt.subplots()\n",
    "\n",
    "for i in range(0,5):\n",
    "    ax.hlines(E1+(Om_r+chi01)*i, 0, 1, color = 'r')\n",
    "    ax.hlines(E2+(Om_r+chi01-chi12/2)*i, 1, 2 , color = 'green')\n",
    "\n",
    "    \n",
    "\n",
    "plt.show()"
   ]
  },
  {
   "cell_type": "code",
   "execution_count": null,
   "metadata": {},
   "outputs": [],
   "source": []
  }
 ],
 "metadata": {
  "kernelspec": {
   "display_name": "Python 3",
   "language": "python",
   "name": "python3"
  },
  "language_info": {
   "codemirror_mode": {
    "name": "ipython",
    "version": 3
   },
   "file_extension": ".py",
   "mimetype": "text/x-python",
   "name": "python",
   "nbconvert_exporter": "python",
   "pygments_lexer": "ipython3",
   "version": "3.7.3"
  }
 },
 "nbformat": 4,
 "nbformat_minor": 2
}
