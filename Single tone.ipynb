{
 "cells": [
  {
   "cell_type": "code",
   "execution_count": 1,
   "metadata": {},
   "outputs": [],
   "source": [
    "from scipy import *\n",
    "import numpy as np\n",
    "import matplotlib.pyplot as plt\n",
    "\n",
    "from matplotlib import colors\n",
    "from matplotlib import cm"
   ]
  },
  {
   "cell_type": "code",
   "execution_count": 2,
   "metadata": {},
   "outputs": [],
   "source": [
    "from mpl_toolkits.mplot3d import Axes3D\n",
    "from scipy import optimize\n",
    "from scipy.optimize import curve_fit\n",
    "from scipy.optimize import least_squares"
   ]
  },
  {
   "cell_type": "markdown",
   "metadata": {},
   "source": [
    "Или, переписывая в терминах $\\widetilde{\\omega}_{r} = \\omega_{r} - \\frac{\\chi_{1,2}}{2}$, $\\omega_{0,1}' = \\omega_{0,1}+\\chi_{0,1}$ и $\\chi = \\chi_{0,1} -\\frac{\\chi_{1,2}}{2}$, приходим к формуле: \n",
    "\n",
    "\\begin{equation}\n",
    "    H' = \\hbar \\frac{\\omega_{0,1}'}{2}\\sigma_{z} +(\\hbar\\widetilde{\\omega}_{r} + \\hbar \\chi \\sigma_{z})a^{\\dagger}a\n",
    "\\end{equation}\n",
    "\n",
    "\\begin{equation}\n",
    "    \\chi_{i,j} = \\frac{g_{i,j}}{\\omega_{i,j} - \\omega_{r}}\n",
    "\\end{equation}\n",
    "\n",
    "где определим силу связи $g_{i,j}$ через оператор $\\hat{n} = -i (E_{J}/8E_{C})^{1/4}(\\hat{b}-\\hat{b}^{\\dagger})/\\sqrt{2}$, где $\\hat{b}$ и $\\hat{b}^{\\dagger}$ - операторы рождения и уничтожения осциллятора: \n",
    "\n",
    "\\begin{equation}\n",
    "    \\hbar g_{i,j} = 2\\beta e V^{0}_{rms} <i|\\hat{n}|j>\n",
    "\\end{equation}\n",
    "\n",
    "где $\\beta = C_{g}/C_{\\sum}$ и $V^{0}_{rms} = \\sqrt{\\hbar \\omega_{r}/2C_{r}}$. Рассчитаем $g_{i,j}$ для уровней 0-1 и 1-2: \n",
    "\n",
    "$$\n",
    "g_{0,1} = 2\\beta e V^{0}_{rms} \\sqrt{\\frac{1}{2}}\\big(\\frac{E_{J}}{8E_{C}}\\big)^{1/4}\n",
    "$$\n",
    "\n",
    "$$\n",
    "g_{1,2} = 2\\beta e V^{0}_{rms} \\sqrt{\\frac{2}{2}}\\big(\\frac{E_{J}}{8E_{C}}\\big)^{1/4}\n",
    "$$\n"
   ]
  },
  {
   "cell_type": "code",
   "execution_count": 342,
   "metadata": {},
   "outputs": [],
   "source": [
    "#константы \n",
    "e = 1.6e-19\n",
    "Fi0 = 2e-15\n",
    "hbar = 6.62e-34\n",
    "\n",
    "M = 2*pi*1e-11\n",
    "\n",
    "#параетры установки\n",
    "Ck = 5e-15\n",
    "Cg = 2e-15\n",
    "Cq = 90e-15\n",
    "Cr = 50e-15#500\n",
    "Lr = 2e-9\n",
    "Cs = 2e-15 #чиселко из ниоткуда, но большое\n",
    "\n",
    "\n",
    "\n",
    "Csum = Cg + Cs\n",
    "beta = Cg/Csum\n",
    "\n",
    "E_C = 100e6 \n",
    "alpha = -E_C #anharmonicity\n",
    "\n",
    "\n",
    "#параметры из эксперимента \n",
    "\n",
    "fr0 = 6e9  #resonator frequency from experiment\n",
    "Om_r = fr0*2*np.pi\n",
    "OmQ_exp = 5.3e9 #qubit frequency from experiment\n",
    "\n",
    "\n",
    "Ql = 3e3\n",
    "Qc = 2.9e3\n",
    "\n",
    "tau = 10.**(-9)\n",
    "phi = pi/6\n",
    "amp = 1.\n",
    "\n",
    "#Asymmetric transmon E_J1 = a E_J2\n",
    "E_J_max = (OmQ_exp+E_C)**2/(8*E_C) #from frequency at sweet spot\n",
    "a = 10  #inequality of Josephson junctions\n",
    "E_J1 = E_J_max/(1+a)\n",
    "E_J2 = a*E_J1\n",
    "E_Jp = E_J1+E_J2\n",
    "E_Jm = E_J1-E_J2\n",
    "d = E_Jm/E_Jp  #SQUID asymmetry\n",
    "\n",
    "\n",
    "#постоянные коэффициенты\n",
    "n = 100 #n of points\n",
    "Vrms = np.sqrt(hbar*Om_r/2/Cr)\n",
    "g = 50e6"
   ]
  },
  {
   "cell_type": "code",
   "execution_count": 346,
   "metadata": {},
   "outputs": [],
   "source": [
    "def Chi(Current):\n",
    "    Fi = np.pi*Current*M/Fi0 #поток внешнего поля\n",
    "    E_J = abs(E_J_max*np.cos(Fi)*sqrt(1+d**2*tan(Fi)**2))\n",
    "    \n",
    "    Cog = (E_J/8/E_C)**(1/4)\n",
    "    g01 = 2*beta*e*Vrms*Cog*np.sqrt(1/2)/hbar\n",
    "    g12 = 2*beta*e*Vrms*Cog/hbar\n",
    "    \n",
    "    OmP = sqrt(8*E_C*E_J)\n",
    "    OmQ = OmP - E_C\n",
    "    chi01 = g01**2/(OmQ-Om_r)\n",
    "    print(g01/1e6)\n",
    "    chi12 = g12**2/(OmQ-E_C-Om_r)\n",
    "    chi = (g01**2)*alpha/((OmQ-Om_r)*(OmQ-E_C-Om_r))#chi01 - chi12/2 #\n",
    "    return chi\n",
    "\n",
    "#прошлый вариант\n",
    "def Chi0(Current): \n",
    "    Fi = pi*Current*M/Fi0 #поток внешнего поля\n",
    "    E_Jp = E_J1+E_J2\n",
    "    E_Jm = E_J1-E_J2\n",
    "    d = E_Jm/E_Jp  #SQUID asymmetry\n",
    "    E_J = abs(E_J_max*np.cos(Fi)*sqrt(1+d**2*tan(Fi)**2))\n",
    "    omegaP = sqrt(8*E_C*E_J) #плазменная частота \n",
    "    omegaEG = omegaP - E_C   #частота перехода кубита e->g\n",
    "    Delta = np.abs(2*pi*Frequency - omegaEG)# отстройка частоты кубита от частоты резонатора\n",
    "    Chi = g*g/Delta*(1/(1+Delta/alpha))#dispersive shift\n",
    "    return Chi\n",
    "\n",
    "\n",
    "\n",
    "def fr(Current, disp = True):\n",
    "    if disp:\n",
    "        fr = fr0 + Chi(Current)#*1e1\n",
    "    else: \n",
    "        fr = fr0\n",
    "    return fr\n",
    "    \n",
    "    \n",
    "\n",
    "def fS21(f, Current): \n",
    "    A = amp * exp(1j * alpha) * exp(-2*pi*1j*f*tau)\n",
    "    Qdel = (Ql/abs(Qc))*exp(1j*phi)\n",
    "    fdel = f/fr(Current) - 1\n",
    "    Z = 1+2*1j*Ql*fdel\n",
    "    ideal = 1 - Qdel/Z\n",
    "    fS21 = A*ideal\n",
    "    return fS21"
   ]
  },
  {
   "cell_type": "code",
   "execution_count": 349,
   "metadata": {},
   "outputs": [
    {
     "name": "stdout",
     "output_type": "stream",
     "text": [
      "[[6691.05942739 6691.05942739 6691.05942739 ... 6691.05942739\n",
      "  6691.05942739 6691.05942739]\n",
      " [6677.38058622 6677.38058622 6677.38058622 ... 6677.38058622\n",
      "  6677.38058622 6677.38058622]\n",
      " [6671.44796201 6671.44796201 6671.44796201 ... 6671.44796201\n",
      "  6671.44796201 6671.44796201]\n",
      " ...\n",
      " [6671.44796201 6671.44796201 6671.44796201 ... 6671.44796201\n",
      "  6671.44796201 6671.44796201]\n",
      " [6677.38058622 6677.38058622 6677.38058622 ... 6677.38058622\n",
      "  6677.38058622 6677.38058622]\n",
      " [6691.05942739 6691.05942739 6691.05942739 ... 6691.05942739\n",
      "  6691.05942739 6691.05942739]]\n",
      "[[6691.05942739 6691.05942739 6691.05942739 ... 6691.05942739\n",
      "  6691.05942739 6691.05942739]\n",
      " [6677.38058622 6677.38058622 6677.38058622 ... 6677.38058622\n",
      "  6677.38058622 6677.38058622]\n",
      " [6671.44796201 6671.44796201 6671.44796201 ... 6671.44796201\n",
      "  6671.44796201 6671.44796201]\n",
      " ...\n",
      " [6671.44796201 6671.44796201 6671.44796201 ... 6671.44796201\n",
      "  6671.44796201 6671.44796201]\n",
      " [6677.38058622 6677.38058622 6677.38058622 ... 6677.38058622\n",
      "  6677.38058622 6677.38058622]\n",
      " [6691.05942739 6691.05942739 6691.05942739 ... 6691.05942739\n",
      "  6691.05942739 6691.05942739]]\n"
     ]
    },
    {
     "data": {
      "text/plain": [
       "<matplotlib.collections.QuadMesh at 0x15b333c5a90>"
      ]
     },
     "execution_count": 349,
     "metadata": {},
     "output_type": "execute_result"
    },
    {
     "data": {
      "image/png": "[encoded data removed]",
      "text/plain": [
       "<Figure size 1008x504 with 2 Axes>"
      ]
     },
     "metadata": {
      "needs_background": "light"
     },
     "output_type": "display_data"
    }
   ],
   "source": [
    "Current = np.linspace(-0.5e-4, 0.5e-4, n)\n",
    "Frequency = np.linspace(5.9945e9, 6.011e9, n)\n",
    "\n",
    "S21 = np.zeros((n,n))\n",
    "\n",
    "XX, YY = np.meshgrid(Frequency, Current)\n",
    "S21abs_r = np.abs(fS21(XX,YY))\n",
    "S21arg_r = np.angle(fS21(XX,YY))\n",
    "\n",
    "fig, ax = plt.subplots(1,2)\n",
    "fig.set_figwidth(14)    \n",
    "fig.set_figheight(7)  \n",
    "\n",
    "ax[0].set_xlabel(r'Current, [A] $\\cdot 10^{-4}$')\n",
    "ax[0].set_ylabel('Frequency, [Ghz]')\n",
    "ax[1].set_xlabel(r'Current, [A] $\\cdot 10^{-4}$')\n",
    "ax[1].set_ylabel('Frequency, [Ghz]')\n",
    "\n",
    "\n",
    "ax[0].pcolormesh(Current*1e4, Frequency*1e-9, S21abs_r.T)\n",
    "ax[1].pcolormesh(Current*1e4, Frequency*1e-9, S21arg_r.T)\n",
    "#z = ax[0].colorbar()"
   ]
  },
  {
   "cell_type": "code",
   "execution_count": 350,
   "metadata": {},
   "outputs": [
    {
     "name": "stdout",
     "output_type": "stream",
     "text": [
      "[6691.05942739 6677.38058622 6671.44796201 6673.64230292 6683.82201526\n",
      " 6701.34189706 6725.13528914 6753.83833788 6785.92793489 6819.84806097\n",
      " 6854.10884544 6887.35324817 6918.39413862 6946.22856511 6970.03688605\n",
      " 6989.17349125 7003.1542151  7011.64392897 7014.44650101 7011.49838045\n",
      " 7002.86643458 6988.75022353 6969.48851779 6945.56941722 6917.64279491\n",
      " 6886.5328495  6853.2472409  6818.97766452 6785.08509967 6753.06205436\n",
      " 6724.46507146 6700.81487344 6683.46948368 6673.48628984 6671.49850476\n",
      " 6677.6344133  6691.50039418 6712.23235396 6738.60176059 6769.15014109\n",
      " 6802.32401893 6836.58923226 6870.51427513 6902.82187026 6932.41397079\n",
      " 6958.37772507 6979.97976424 6996.65477939 7007.99267585 7013.72711172\n",
      " 7013.72711172 7007.99267585 6996.65477939 6979.97976424 6958.37772507\n",
      " 6932.41397079 6902.82187026 6870.51427513 6836.58923226 6802.32401893\n",
      " 6769.15014109 6738.60176059 6712.23235396 6691.50039418 6677.6344133\n",
      " 6671.49850476 6673.48628984 6683.46948368 6700.81487344 6724.46507146\n",
      " 6753.06205436 6785.08509967 6818.97766452 6853.2472409  6886.5328495\n",
      " 6917.64279491 6945.56941722 6969.48851779 6988.75022353 7002.86643458\n",
      " 7011.49838045 7014.44650101 7011.64392897 7003.1542151  6989.17349125\n",
      " 6970.03688605 6946.22856511 6918.39413862 6887.35324817 6854.10884544\n",
      " 6819.84806097 6785.92793489 6753.83833788 6725.13528914 6701.34189706\n",
      " 6683.82201526 6673.64230292 6671.44796201 6677.38058622 6691.05942739]\n"
     ]
    },
    {
     "data": {
      "image/png": "[encoded data removed]",
      "text/plain": [
       "<Figure size 432x288 with 1 Axes>"
      ]
     },
     "metadata": {
      "needs_background": "light"
     },
     "output_type": "display_data"
    }
   ],
   "source": [
    "fig, ax = plt.subplots()\n",
    "ax.plot( Current,  Chi(Current), '.', color=\"Blue\")\n",
    "\n",
    "plt.show()"
   ]
  },
  {
   "cell_type": "code",
   "execution_count": null,
   "metadata": {},
   "outputs": [],
   "source": []
  }
 ],
 "metadata": {
  "kernelspec": {
   "display_name": "Python 3",
   "language": "python",
   "name": "python3"
  },
  "language_info": {
   "codemirror_mode": {
    "name": "ipython",
    "version": 3
   },
   "file_extension": ".py",
   "mimetype": "text/x-python",
   "name": "python",
   "nbconvert_exporter": "python",
   "pygments_lexer": "ipython3",
   "version": "3.7.3"
  }
 },
 "nbformat": 4,
 "nbformat_minor": 2
}
