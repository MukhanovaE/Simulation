{
 "cells": [
  {
   "cell_type": "code",
   "execution_count": 1,
   "metadata": {},
   "outputs": [],
   "source": [
    "from scipy import *\n",
    "from qutip import *\n",
    "from matplotlib import *\n",
    "import numpy as np\n",
    "import matplotlib.pyplot as plt\n",
    "\n",
    "from matplotlib import colors\n",
    "from matplotlib import cm"
   ]
  },
  {
   "cell_type": "code",
   "execution_count": 2,
   "metadata": {},
   "outputs": [],
   "source": [
    "from mpl_toolkits.mplot3d import Axes3D\n",
    "from scipy import optimize\n",
    "from scipy.optimize import curve_fit\n",
    "from scipy.optimize import least_squares"
   ]
  },
  {
   "cell_type": "code",
   "execution_count": 24,
   "metadata": {},
   "outputs": [],
   "source": [
    "#parametrs\n",
    "n = 100\n",
    "e = 1.6e-19\n",
    "Fi0 = 2e-15\n",
    "\n",
    "fr = 6e9\n",
    "g = 50e9 # coupling stranght\n",
    "M = 2*pi*1e11\n",
    "\n",
    "C_J = 90e-15\n",
    "C_sh = 90e-15\n",
    "C_tot = C_J + C_sh\n",
    "OmQ = 5.3e6\n",
    "\n",
    "E_C = 200e6 # e*e/(2*C_tot)\n",
    "alpha = -1*E_C #anharmonicity\n",
    "\n",
    "Current = np.linspace(-1e-4, 1e-4, n)\n",
    "Frequency = np.linspace(4.99e9, 8.01e9, n)\n",
    "E_J = np.zeros(n)\n",
    "E_J_max = (5.3e6+E_C)*(5.3e6+E_C)/(8*E_C)\n",
    "omegaP = np.zeros(n) #плазменная частота \n",
    "omegaEG = np.zeros(n) # частота перехода кубита\n",
    "Delta = np.zeros(n) # отстройка частоты кубита от частоты резонатора\n",
    "Chi = np.zeros(n) #dispersive shift\n",
    "\n",
    "\n",
    "for i in range(0,n):\n",
    "    Fi = Current[i]*M\n",
    "    E_J[i] = abs(E_J_max*np.cos(Fi/Fi0))\n",
    "    omegaP[i] = sqrt(8*E_C*E_J[i]) \n",
    "    omegaEG[i] = omegaP[i] - E_C\n",
    "    Delta[i] = np.abs(2*pi*Frequency[i] - omegaEG[i])\n",
    "    Chi[i] = g*g/Delta[i]"
   ]
  },
  {
   "cell_type": "code",
   "execution_count": 17,
   "metadata": {},
   "outputs": [
    {
     "data": {
      "text/plain": [
       "26342556.25"
      ]
     },
     "execution_count": 17,
     "metadata": {},
     "output_type": "execute_result"
    }
   ],
   "source": [
    "a = (5.3e6+200e6)\n",
    "a = a*a\n",
    "a = a/8/(200e6)\n",
    "a"
   ]
  },
  {
   "cell_type": "markdown",
   "metadata": {},
   "source": [
    "S-параметр резонатора: \n",
    "\n",
    "$S_{21} = a e^{i\\alpha} e^{-2\\pi i f \\tau} \\bigg[1 - \\frac{(Q_{l}|Q_{c}|)e^{i\\phi}}{1 + 2iQ_{l}(f/f_{r}-1) } \\bigg]$\n",
    "\n",
    "Here, f denotes  theprobe  frequency, $f_{r}$ the  resonance  frequency, $Q_{l}$ the loaded and |$Q_{c}$| the absolute value of the coupling quality factor and $\\phi$ quantifies the impedance mismatch. The environment is  accounted  for  by  adding  an  additional amplitudea, a phase shift $\\alpha$ and the electronic delay $\\tau$\n",
    "caused by the length of the cable and finite speed of light.\n",
    "\n",
    "f - частота 1 тона, подаваемыйй сигнал, зависимость его от S\n",
    "\n",
    "$f_{r}$ - резонансная частота резонатора"
   ]
  },
  {
   "cell_type": "code",
   "execution_count": 22,
   "metadata": {},
   "outputs": [],
   "source": [
    "Ql = 3e3\n",
    "Qc = 2.9e3\n",
    "\n",
    "#alpha = 0.\n",
    "tau = 0. #10.**(-10)\n",
    "phi = 0.\n",
    "a = 1.\n",
    "\n",
    "def fS21(f, Current): \n",
    "    A = a * exp(1j * alpha) * exp(-2*pi*1j*f*tau)\n",
    "    Qdel = (Ql/abs(Qc))*exp(1j*phi)\n",
    "    fdel = f/fr - 1\n",
    "    Z = 1+2*1j*Ql*fdel\n",
    "    ideal = 1 - Qdel/Z\n",
    "    fS21 = A*ideal\n",
    "    return fS21"
   ]
  },
  {
   "cell_type": "code",
   "execution_count": 8,
   "metadata": {
    "scrolled": false
   },
   "outputs": [
    {
     "data": {
      "text/plain": [
       "<matplotlib.collections.QuadMesh at 0x25f35989c88>"
      ]
     },
     "execution_count": 8,
     "metadata": {},
     "output_type": "execute_result"
    },
    {
     "data": {
      "image/png": "[encoded data removed]",
      "text/plain": [
       "<Figure size 1008x504 with 2 Axes>"
      ]
     },
     "metadata": {
      "needs_background": "light"
     },
     "output_type": "display_data"
    }
   ],
   "source": [
    "#pure resonator\n",
    "S21 = np.zeros((n,n))\n",
    "\n",
    "XX, YY = np.meshgrid(Frequency, Current)\n",
    "\n",
    "S21abs_r = np.abs(fS21(XX,YY))\n",
    "S21arg_r = np.angle(fS21(XX,YY))\n",
    "\n",
    "fig, ax = plt.subplots(1,2)\n",
    "fig.set_figwidth(14)    \n",
    "fig.set_figheight(7)  \n",
    "\n",
    "ax[0].set_xlabel('Current')\n",
    "ax[0].set_ylabel('Frequency$')\n",
    "ax[1].set_xlabel('Current')\n",
    "ax[1].set_ylabel('Frequency$')\n",
    "\n",
    "\n",
    "ax[0].pcolormesh(Current, Frequency, S21abs_r.T, cmap='plasma')\n",
    "ax[1].pcolormesh(Current, Frequency, S21arg_r.T, cmap='plasma')\n",
    "#z = ax[0].colorbar()"
   ]
  },
  {
   "cell_type": "markdown",
   "metadata": {},
   "source": [
    "DIspersive approximation hamiltonian:\n",
    "\n",
    "$H = (\\omega_{r} + \\chi \\sigma_{z})(a^{\\dagger}a+\\frac{1}{2}) + \\frac{\\omega_{q}' = \\omega_{q}}{2}\\sigma_{z}$\n",
    "\n",
    "где $\\chi = g^{2}/\\Delta$ is the qubit-state dependent frequency shift, a socalled “dispersive shift”. \n",
    "\n",
    "$\\omega_{q}' = \\omega_{q} + \\chi$ "
   ]
  },
  {
   "cell_type": "code",
   "execution_count": 25,
   "metadata": {},
   "outputs": [
    {
     "data": {
      "text/plain": [
       "<matplotlib.collections.QuadMesh at 0x25f38025240>"
      ]
     },
     "execution_count": 25,
     "metadata": {},
     "output_type": "execute_result"
    },
    {
     "data": {
      "image/png": "[encoded data removed]",
      "text/plain": [
       "<Figure size 1008x504 with 2 Axes>"
      ]
     },
     "metadata": {
      "needs_background": "light"
     },
     "output_type": "display_data"
    }
   ],
   "source": [
    "#resonator+qubit\n",
    "Frequency_disp = np.zeros(n)\n",
    "for i in range(0,n):\n",
    "    Frequency_disp[i] = Frequency[i] + Chi[i]\n",
    "\n",
    "\n",
    "XX_disp, YY_disp = np.meshgrid(Frequency_disp, Current)\n",
    "S21abs_rq = np.abs(fS21(XX_disp,YY_disp))\n",
    "S21arg_rq = np.angle(fS21(XX_disp,YY_disp))\n",
    "\n",
    "fig, ax = plt.subplots(1,2)\n",
    "fig.set_figwidth(14)    \n",
    "fig.set_figheight(7)  \n",
    "\n",
    "ax[0].set_xlabel('Current')\n",
    "ax[0].set_ylabel('Frequency$')\n",
    "ax[1].set_xlabel('Current')\n",
    "ax[1].set_ylabel('Frequency$')\n",
    "\n",
    "\n",
    "ax[0].pcolormesh(Current, Frequency, S21abs_rq.T, cmap='plasma')\n",
    "ax[1].pcolormesh(Current, Frequency, S21arg_rq.T, cmap='plasma')"
   ]
  }
 ],
 "metadata": {
  "kernelspec": {
   "display_name": "Python 3",
   "language": "python",
   "name": "python3"
  },
  "language_info": {
   "codemirror_mode": {
    "name": "ipython",
    "version": 3
   },
   "file_extension": ".py",
   "mimetype": "text/x-python",
   "name": "python",
   "nbconvert_exporter": "python",
   "pygments_lexer": "ipython3",
   "version": "3.7.3"
  }
 },
 "nbformat": 4,
 "nbformat_minor": 2
}
