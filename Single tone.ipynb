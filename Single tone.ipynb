{
 "cells": [
  {
   "cell_type": "code",
   "execution_count": 1,
   "metadata": {},
   "outputs": [],
   "source": [
    "from scipy import *\n",
    "import numpy as np\n",
    "import matplotlib.pyplot as plt\n",
    "\n",
    "from matplotlib import colors\n",
    "from matplotlib import cm"
   ]
  },
  {
   "cell_type": "code",
   "execution_count": 2,
   "metadata": {},
   "outputs": [],
   "source": [
    "from mpl_toolkits.mplot3d import Axes3D\n",
    "from scipy import optimize\n",
    "from scipy.optimize import curve_fit\n",
    "from scipy.optimize import least_squares"
   ]
  },
  {
   "cell_type": "markdown",
   "metadata": {},
   "source": [
    "Или, переписывая в терминах $\\widetilde{\\omega}_{r} = \\omega_{r} - \\frac{\\chi_{1,2}}{2}$, $\\omega_{0,1}' = \\omega_{0,1}+\\chi_{0,1}$ и $\\chi = \\chi_{0,1} -\\frac{\\chi_{1,2}}{2}$, приходим к формуле: \n",
    "\n",
    "\\begin{equation}\n",
    "    H' = \\hbar \\frac{\\omega_{0,1}'}{2}\\sigma_{z} +(\\hbar\\widetilde{\\omega}_{r} + \\hbar \\chi \\sigma_{z})a^{\\dagger}a\n",
    "\\end{equation}\n",
    "\n",
    "\\begin{equation}\n",
    "    \\chi_{i,j} = \\frac{g_{i,j}}{\\omega_{i,j} - \\omega_{r}}\n",
    "\\end{equation}\n",
    "\n",
    "где определим силу связи $g_{i,j}$ через оператор $\\hat{n} = -i (E_{J}/8E_{C})^{1/4}(\\hat{b}-\\hat{b}^{\\dagger})/\\sqrt{2}$, где $\\hat{b}$ и $\\hat{b}^{\\dagger}$ - операторы рождения и уничтожения осциллятора: \n",
    "\n",
    "\\begin{equation}\n",
    "    \\hbar g_{i,j} = 2\\beta e V^{0}_{rms} <i|\\hat{n}|j>\n",
    "\\end{equation}\n",
    "\n",
    "где $\\beta = C_{g}/C_{\\sum}$ и $V^{0}_{rms} = \\sqrt{\\hbar \\omega_{r}/2C_{r}}$. Рассчитаем $g_{i,j}$ для уровней 0-1 и 1-2: \n",
    "\n",
    "$$\n",
    "g_{0,1} = 2\\beta e V^{0}_{rms} \\sqrt{\\frac{1}{2}}\\big(\\frac{E_{J}}{8E_{C}}\\big)^{1/4}\n",
    "$$\n",
    "\n",
    "$$\n",
    "g_{1,2} = 2\\beta e V^{0}_{rms} \\sqrt{\\frac{2}{2}}\\big(\\frac{E_{J}}{8E_{C}}\\big)^{1/4}\n",
    "$$\n"
   ]
  },
  {
   "cell_type": "code",
   "execution_count": 263,
   "metadata": {},
   "outputs": [],
   "source": [
    "#константы \n",
    "e = 1.6e-19\n",
    "Fi0 = 2e-15\n",
    "hbar = 6.62e-34\n",
    "\n",
    "M = 2*pi*1e-11\n",
    "\n",
    "#параетры установки\n",
    "Ck = 5e-15\n",
    "Cg = 2e-15\n",
    "Cq = 90e-15\n",
    "Cr = 500e-15\n",
    "Lr = 2e-9\n",
    "Cs = 100e-15 #чиселко из ниоткуда, но большое\n",
    "\n",
    "\n",
    "\n",
    "Csum = Cg + Cs\n",
    "beta = Cg/Csum\n",
    "\n",
    "E_C = 200e6 \n",
    "alpha = -E_C #anharmonicity\n",
    "\n",
    "\n",
    "#параметры из эксперимента \n",
    "\n",
    "fr0 = 6e9  #resonator frequency from experiment\n",
    "Om_r = fr0*2*np.pi\n",
    "OmQ_exp = 5.3e9 #qubit frequency from experiment\n",
    "\n",
    "\n",
    "Ql = 3e3\n",
    "Qc = 2.9e3\n",
    "\n",
    "tau = 10.**(-9)\n",
    "phi = pi/6\n",
    "amp = 1.\n",
    "\n",
    "#Asymmetric transmon E_J1 = a E_J2\n",
    "E_J_max = (OmQ_exp+E_C)**2/(8*E_C) #from frequency at sweet spot\n",
    "a = 10  #inequality of Josephson junctions\n",
    "E_J1 = E_J_max/(1+a)\n",
    "E_J2 = a*E_J1\n",
    "E_Jp = E_J1+E_J2\n",
    "E_Jm = E_J1-E_J2\n",
    "d = E_Jm/E_Jp  #SQUID asymmetry\n",
    "\n",
    "\n",
    "#постоянные коэффициенты\n",
    "n = 100 #n of points\n",
    "Vrms = np.sqrt(hbar*Om_r/2/Cr)\n",
    "g = 50e6"
   ]
  },
  {
   "cell_type": "code",
   "execution_count": 292,
   "metadata": {},
   "outputs": [],
   "source": [
    "def Chi(Current):\n",
    "    Fi = np.pi*Current*M/Fi0 #поток внешнего поля\n",
    "    E_J = abs(E_J_max*np.cos(Fi)*sqrt(1+d**2*tan(Fi)**2))\n",
    "    \n",
    "    Cog = (E_J/8/E_C)**(1/4)\n",
    "    g01 = 2*beta*e*Vrms*Cog*np.sqrt(1/2)/hbar\n",
    "    g12 = 2*beta*e*Vrms*Cog/hbar\n",
    "    \n",
    "    OmP = sqrt(8*E_C*E_J)\n",
    "    OmQ = (OmP - E_C)\n",
    "    chi01 = g01**2/(OmQ-Om_r)\n",
    "    chi12 = g12**2/(OmQ-E_C-Om_r)\n",
    "    chi = g01*alpha/((OmQ-Om_r)*(OmQ-E_C-Om_r))#chi01 - chi12/2 #\n",
    "    return chi\n",
    "\n",
    "#прошлый вариант\n",
    "def Chi0(Current): \n",
    "    Fi = pi*Current*M/Fi0 #поток внешнего поля\n",
    "    E_Jp = E_J1+E_J2\n",
    "    E_Jm = E_J1-E_J2\n",
    "    d = E_Jm/E_Jp  #SQUID asymmetry\n",
    "    E_J = abs(E_J_max*np.cos(Fi)*sqrt(1+d**2*tan(Fi)**2))\n",
    "    omegaP = sqrt(8*E_C*E_J) #плазменная частота \n",
    "    omegaEG = omegaP - E_C   #частота перехода кубита e->g\n",
    "    Delta = np.abs(2*pi*Frequency - omegaEG)# отстройка частоты кубита от частоты резонатора\n",
    "    Chi = g*g/Delta*(1/(1+Delta/alpha))#dispersive shift\n",
    "    return Chi\n",
    "\n",
    "\n",
    "\n",
    "def fr(Current, disp = True):\n",
    "    if disp:\n",
    "        fr = fr0 + Chi(Current)*1e21\n",
    "    else: \n",
    "        fr = fr0\n",
    "    return fr\n",
    "    \n",
    "    \n",
    "\n",
    "def fS21(f, Current): \n",
    "    A = amp * exp(1j * alpha) * exp(-2*pi*1j*f*tau)\n",
    "    Qdel = (Ql/abs(Qc))*exp(1j*phi)\n",
    "    fdel = f/fr(Current) - 1\n",
    "    Z = 1+2*1j*Ql*fdel\n",
    "    ideal = 1 - Qdel/Z\n",
    "    fS21 = A*ideal\n",
    "    return fS21"
   ]
  },
  {
   "cell_type": "code",
   "execution_count": 293,
   "metadata": {},
   "outputs": [
    {
     "data": {
      "text/plain": [
       "<matplotlib.collections.QuadMesh at 0x15b2d3db160>"
      ]
     },
     "execution_count": 293,
     "metadata": {},
     "output_type": "execute_result"
    },
    {
     "data": {
      "image/png": "[encoded data removed]",
      "text/plain": [
       "<Figure size 1008x504 with 2 Axes>"
      ]
     },
     "metadata": {
      "needs_background": "light"
     },
     "output_type": "display_data"
    }
   ],
   "source": [
    "Current = np.linspace(-0.5e-4, 0.5e-4, n)\n",
    "Frequency = np.linspace(5.9645e9, 6.011e9, n)\n",
    "\n",
    "S21 = np.zeros((n,n))\n",
    "\n",
    "XX, YY = np.meshgrid(Frequency, Current)\n",
    "S21abs_r = np.abs(fS21(XX,YY))\n",
    "S21arg_r = np.angle(fS21(XX,YY))\n",
    "\n",
    "fig, ax = plt.subplots(1,2)\n",
    "fig.set_figwidth(14)    \n",
    "fig.set_figheight(7)  \n",
    "\n",
    "ax[0].set_xlabel(r'Current, [A] $\\cdot 10^{-4}$')\n",
    "ax[0].set_ylabel('Frequency, [Ghz]')\n",
    "ax[1].set_xlabel(r'Current, [A] $\\cdot 10^{-4}$')\n",
    "ax[1].set_ylabel('Frequency, [Ghz]')\n",
    "\n",
    "\n",
    "ax[0].pcolormesh(Current*1e4, Frequency*1e-9, S21abs_r.T)\n",
    "ax[1].pcolormesh(Current*1e4, Frequency*1e-9, S21arg_r.T)\n",
    "#z = ax[0].colorbar()"
   ]
  },
  {
   "cell_type": "code",
   "execution_count": 294,
   "metadata": {},
   "outputs": [
    {
     "data": {
      "image/png": "[encoded data removed]",
      "text/plain": [
       "<Figure size 432x288 with 1 Axes>"
      ]
     },
     "metadata": {
      "needs_background": "light"
     },
     "output_type": "display_data"
    }
   ],
   "source": [
    "fig, ax = plt.subplots()\n",
    "ax.plot( Current,  Chi(Current), '.', color=\"Blue\")\n",
    "\n",
    "plt.show()"
   ]
  }
 ],
 "metadata": {
  "kernelspec": {
   "display_name": "Python 3",
   "language": "python",
   "name": "python3"
  },
  "language_info": {
   "codemirror_mode": {
    "name": "ipython",
    "version": 3
   },
   "file_extension": ".py",
   "mimetype": "text/x-python",
   "name": "python",
   "nbconvert_exporter": "python",
   "pygments_lexer": "ipython3",
   "version": "3.7.3"
  }
 },
 "nbformat": 4,
 "nbformat_minor": 2
}
