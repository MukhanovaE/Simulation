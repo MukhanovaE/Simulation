{
 "cells": [
  {
   "cell_type": "code",
   "execution_count": 17,
   "metadata": {},
   "outputs": [],
   "source": [
    "from scipy import *\n",
    "from qutip import *\n",
    "from matplotlib import *\n",
    "import numpy as np\n",
    "import matplotlib.pyplot as plt\n",
    "\n",
    "\n",
    "from sympy import *\n",
    "init_printing() \n",
    "\n",
    "\n",
    "from sympsi import *\n",
    "from sympsi.pauli import *\n",
    "\n",
    "\n",
    "from matplotlib import colors\n",
    "from matplotlib import cm\n",
    "\n",
    "from sympy.physics.quantum.dagger import Dagger\n",
    "from sympy.physics.quantum.operator import Operator"
   ]
  },
  {
   "cell_type": "code",
   "execution_count": 10,
   "metadata": {},
   "outputs": [],
   "source": [
    "theta, t = symbols(\"θ, t\")\n",
    "eps, Delta, Omega_q = symbols(\"ε, Δ, ω_q\",real=True, positive=True)\n",
    "Hsym = symbols(\"H\")\n",
    "\n",
    "sx, sy, sz = SigmaX(), SigmaY(), SigmaZ()"
   ]
  },
  {
   "cell_type": "markdown",
   "metadata": {},
   "source": [
    "# Rabi Hamiltonian"
   ]
  },
  {
   "cell_type": "code",
   "execution_count": 11,
   "metadata": {},
   "outputs": [
    {
     "data": {
      "image/png": "[encoded data removed]",
      "text/latex": [
       "$\\displaystyle H = - \\frac{Δ {\\sigma_x}}{2} - \\frac{ε {\\sigma_z}}{2}$"
      ],
      "text/plain": [
       "      Δ⋅False   ε⋅False\n",
       "H = - ─────── - ───────\n",
       "         2         2   "
      ]
     },
     "execution_count": 11,
     "metadata": {},
     "output_type": "execute_result"
    }
   ],
   "source": [
    "#Rabi hamiltonian \n",
    "\n",
    "H = -eps/2 * sz - Delta/2 * sx\n",
    "\n",
    "Eq(Hsym, H)"
   ]
  },
  {
   "cell_type": "code",
   "execution_count": 18,
   "metadata": {},
   "outputs": [
    {
     "data": {
      "image/png": "[encoded data removed]",
      "text/latex": [
       "$\\displaystyle e^{\\frac{i θ {\\sigma_y}}{2}}$"
      ],
      "text/plain": [
       " ⅈ⋅θ⋅False\n",
       " ─────────\n",
       "     2    \n",
       "ℯ         "
      ]
     },
     "execution_count": 18,
     "metadata": {},
     "output_type": "execute_result"
    }
   ],
   "source": [
    "#propogator defenition\n",
    "\n",
    "#    def hamiltonian_transformation(U, H, N=6, collect_operators=None,\n",
    "#                              independent=False, expansion_search=True):\n",
    "\n",
    "#Apply an unitary basis transformation to the Hamiltonian H:\n",
    "#     H = U H U^\\dagger -i U d/dt(U^\\dagger)\n",
    " \n",
    "\n",
    "U = exp(I * theta/2 * sy)\n",
    "\n",
    "U"
   ]
  },
  {
   "cell_type": "code",
   "execution_count": 19,
   "metadata": {},
   "outputs": [
    {
     "ename": "AttributeError",
     "evalue": "Can not collect noncommutative symbol",
     "output_type": "error",
     "traceback": [
      "\u001b[1;31m---------------------------------------------------------------------------\u001b[0m",
      "\u001b[1;31mAttributeError\u001b[0m                            Traceback (most recent call last)",
      "\u001b[1;32m<ipython-input-19-f779083f1814>\u001b[0m in \u001b[0;36m<module>\u001b[1;34m\u001b[0m\n\u001b[1;32m----> 1\u001b[1;33m \u001b[0mhamiltonian_transformation\u001b[0m\u001b[1;33m(\u001b[0m\u001b[0mU\u001b[0m\u001b[1;33m,\u001b[0m \u001b[0msx\u001b[0m\u001b[1;33m)\u001b[0m\u001b[1;33m\u001b[0m\u001b[1;33m\u001b[0m\u001b[0m\n\u001b[0m",
      "\u001b[1;32m~\\Documents\\Qbit\\PYTON\\Simulations\\sympsi\\qutility.py\u001b[0m in \u001b[0;36mhamiltonian_transformation\u001b[1;34m(U, H, N, collect_operators, independent, expansion_search)\u001b[0m\n\u001b[0;32m   1108\u001b[0m                                   \u001b[0mcollect_operators\u001b[0m\u001b[1;33m=\u001b[0m\u001b[0mcollect_operators\u001b[0m\u001b[1;33m,\u001b[0m\u001b[1;33m\u001b[0m\u001b[1;33m\u001b[0m\u001b[0m\n\u001b[0;32m   1109\u001b[0m                                   \u001b[0mindependent\u001b[0m\u001b[1;33m=\u001b[0m\u001b[0mindependent\u001b[0m\u001b[1;33m,\u001b[0m\u001b[1;33m\u001b[0m\u001b[1;33m\u001b[0m\u001b[0m\n\u001b[1;32m-> 1110\u001b[1;33m                                   expansion_search=expansion_search)\n\u001b[0m\u001b[0;32m   1111\u001b[0m     \u001b[1;32mreturn\u001b[0m \u001b[0mH_st\u001b[0m \u001b[1;33m+\u001b[0m \u001b[0mH_td\u001b[0m\u001b[1;33m\u001b[0m\u001b[1;33m\u001b[0m\u001b[0m\n\u001b[0;32m   1112\u001b[0m \u001b[1;33m\u001b[0m\u001b[0m\n",
      "\u001b[1;32m~\\Documents\\Qbit\\PYTON\\Simulations\\sympsi\\qutility.py\u001b[0m in \u001b[0;36munitary_transformation\u001b[1;34m(U, O, N, collect_operators, independent, allinone, expansion_search)\u001b[0m\n\u001b[0;32m   1083\u001b[0m                                       \u001b[0mindependent\u001b[0m\u001b[1;33m=\u001b[0m\u001b[0mindependent\u001b[0m\u001b[1;33m,\u001b[0m\u001b[1;33m\u001b[0m\u001b[1;33m\u001b[0m\u001b[0m\n\u001b[0;32m   1084\u001b[0m                                       expansion_search=expansion_search)\n\u001b[1;32m-> 1085\u001b[1;33m                     for op in ops}\n\u001b[0m\u001b[0;32m   1086\u001b[0m \u001b[1;33m\u001b[0m\u001b[0m\n\u001b[0;32m   1087\u001b[0m         \u001b[1;31m#return O.subs(ops_subs, simultaneous=True) # XXX: this this\u001b[0m\u001b[1;33m\u001b[0m\u001b[1;33m\u001b[0m\u001b[1;33m\u001b[0m\u001b[0m\n",
      "\u001b[1;32m~\\Documents\\Qbit\\PYTON\\Simulations\\sympsi\\qutility.py\u001b[0m in \u001b[0;36m<dictcomp>\u001b[1;34m(.0)\u001b[0m\n\u001b[0;32m   1083\u001b[0m                                       \u001b[0mindependent\u001b[0m\u001b[1;33m=\u001b[0m\u001b[0mindependent\u001b[0m\u001b[1;33m,\u001b[0m\u001b[1;33m\u001b[0m\u001b[1;33m\u001b[0m\u001b[0m\n\u001b[0;32m   1084\u001b[0m                                       expansion_search=expansion_search)\n\u001b[1;32m-> 1085\u001b[1;33m                     for op in ops}\n\u001b[0m\u001b[0;32m   1086\u001b[0m \u001b[1;33m\u001b[0m\u001b[0m\n\u001b[0;32m   1087\u001b[0m         \u001b[1;31m#return O.subs(ops_subs, simultaneous=True) # XXX: this this\u001b[0m\u001b[1;33m\u001b[0m\u001b[1;33m\u001b[0m\u001b[1;33m\u001b[0m\u001b[0m\n",
      "\u001b[1;32m~\\Documents\\Qbit\\PYTON\\Simulations\\sympsi\\qutility.py\u001b[0m in \u001b[0;36mbch_expansion\u001b[1;34m(A, B, N, collect_operators, independent, expansion_search)\u001b[0m\n\u001b[0;32m   1031\u001b[0m         \u001b[0me_collected\u001b[0m \u001b[1;33m=\u001b[0m \u001b[0mcollect\u001b[0m\u001b[1;33m(\u001b[0m\u001b[0me\u001b[0m\u001b[1;33m,\u001b[0m \u001b[0mcollect_operators\u001b[0m\u001b[1;33m)\u001b[0m\u001b[1;33m\u001b[0m\u001b[1;33m\u001b[0m\u001b[0m\n\u001b[0;32m   1032\u001b[0m     \u001b[1;32melse\u001b[0m\u001b[1;33m:\u001b[0m\u001b[1;33m\u001b[0m\u001b[1;33m\u001b[0m\u001b[0m\n\u001b[1;32m-> 1033\u001b[1;33m         \u001b[0me_collected\u001b[0m \u001b[1;33m=\u001b[0m \u001b[0mcollect\u001b[0m\u001b[1;33m(\u001b[0m\u001b[0me\u001b[0m\u001b[1;33m,\u001b[0m \u001b[0mops\u001b[0m\u001b[1;33m)\u001b[0m\u001b[1;33m\u001b[0m\u001b[1;33m\u001b[0m\u001b[0m\n\u001b[0m\u001b[0;32m   1034\u001b[0m \u001b[1;33m\u001b[0m\u001b[0m\n\u001b[0;32m   1035\u001b[0m     \u001b[1;32mif\u001b[0m \u001b[0mdebug\u001b[0m\u001b[1;33m:\u001b[0m\u001b[1;33m\u001b[0m\u001b[1;33m\u001b[0m\u001b[0m\n",
      "\u001b[1;32m~\\Anaconda3\\envs\\Simulations\\lib\\site-packages\\sympy\\simplify\\radsimp.py\u001b[0m in \u001b[0;36mcollect\u001b[1;34m(expr, syms, func, evaluate, exact, distribute_order_term)\u001b[0m\n\u001b[0;32m    332\u001b[0m             expr = expr.func(*[\n\u001b[0;32m    333\u001b[0m                     \u001b[0mcollect\u001b[0m\u001b[1;33m(\u001b[0m\u001b[0ma\u001b[0m\u001b[1;33m,\u001b[0m \u001b[0msyms\u001b[0m\u001b[1;33m,\u001b[0m \u001b[0mfunc\u001b[0m\u001b[1;33m,\u001b[0m \u001b[1;32mTrue\u001b[0m\u001b[1;33m,\u001b[0m \u001b[0mexact\u001b[0m\u001b[1;33m,\u001b[0m \u001b[0mdistribute_order_term\u001b[0m\u001b[1;33m)\u001b[0m\u001b[1;33m\u001b[0m\u001b[1;33m\u001b[0m\u001b[0m\n\u001b[1;32m--> 334\u001b[1;33m                     for a in expr.args if a != o]) + o\n\u001b[0m\u001b[0;32m    335\u001b[0m         \u001b[1;32melif\u001b[0m \u001b[0mexpr\u001b[0m\u001b[1;33m.\u001b[0m\u001b[0mis_Mul\u001b[0m\u001b[1;33m:\u001b[0m\u001b[1;33m\u001b[0m\u001b[1;33m\u001b[0m\u001b[0m\n\u001b[0;32m    336\u001b[0m             return expr.func(*[\n",
      "\u001b[1;32m~\\Anaconda3\\envs\\Simulations\\lib\\site-packages\\sympy\\simplify\\radsimp.py\u001b[0m in \u001b[0;36m<listcomp>\u001b[1;34m(.0)\u001b[0m\n\u001b[0;32m    332\u001b[0m             expr = expr.func(*[\n\u001b[0;32m    333\u001b[0m                     \u001b[0mcollect\u001b[0m\u001b[1;33m(\u001b[0m\u001b[0ma\u001b[0m\u001b[1;33m,\u001b[0m \u001b[0msyms\u001b[0m\u001b[1;33m,\u001b[0m \u001b[0mfunc\u001b[0m\u001b[1;33m,\u001b[0m \u001b[1;32mTrue\u001b[0m\u001b[1;33m,\u001b[0m \u001b[0mexact\u001b[0m\u001b[1;33m,\u001b[0m \u001b[0mdistribute_order_term\u001b[0m\u001b[1;33m)\u001b[0m\u001b[1;33m\u001b[0m\u001b[1;33m\u001b[0m\u001b[0m\n\u001b[1;32m--> 334\u001b[1;33m                     for a in expr.args if a != o]) + o\n\u001b[0m\u001b[0;32m    335\u001b[0m         \u001b[1;32melif\u001b[0m \u001b[0mexpr\u001b[0m\u001b[1;33m.\u001b[0m\u001b[0mis_Mul\u001b[0m\u001b[1;33m:\u001b[0m\u001b[1;33m\u001b[0m\u001b[1;33m\u001b[0m\u001b[0m\n\u001b[0;32m    336\u001b[0m             return expr.func(*[\n",
      "\u001b[1;32m~\\Anaconda3\\envs\\Simulations\\lib\\site-packages\\sympy\\simplify\\radsimp.py\u001b[0m in \u001b[0;36mcollect\u001b[1;34m(expr, syms, func, evaluate, exact, distribute_order_term)\u001b[0m\n\u001b[0;32m    336\u001b[0m             return expr.func(*[\n\u001b[0;32m    337\u001b[0m                 \u001b[0mcollect\u001b[0m\u001b[1;33m(\u001b[0m\u001b[0mterm\u001b[0m\u001b[1;33m,\u001b[0m \u001b[0msyms\u001b[0m\u001b[1;33m,\u001b[0m \u001b[0mfunc\u001b[0m\u001b[1;33m,\u001b[0m \u001b[1;32mTrue\u001b[0m\u001b[1;33m,\u001b[0m \u001b[0mexact\u001b[0m\u001b[1;33m,\u001b[0m \u001b[0mdistribute_order_term\u001b[0m\u001b[1;33m)\u001b[0m\u001b[1;33m\u001b[0m\u001b[1;33m\u001b[0m\u001b[0m\n\u001b[1;32m--> 338\u001b[1;33m                 for term in expr.args])\n\u001b[0m\u001b[0;32m    339\u001b[0m         \u001b[1;32melif\u001b[0m \u001b[0mexpr\u001b[0m\u001b[1;33m.\u001b[0m\u001b[0mis_Pow\u001b[0m\u001b[1;33m:\u001b[0m\u001b[1;33m\u001b[0m\u001b[1;33m\u001b[0m\u001b[0m\n\u001b[0;32m    340\u001b[0m             b = collect(\n",
      "\u001b[1;32m~\\Anaconda3\\envs\\Simulations\\lib\\site-packages\\sympy\\simplify\\radsimp.py\u001b[0m in \u001b[0;36m<listcomp>\u001b[1;34m(.0)\u001b[0m\n\u001b[0;32m    336\u001b[0m             return expr.func(*[\n\u001b[0;32m    337\u001b[0m                 \u001b[0mcollect\u001b[0m\u001b[1;33m(\u001b[0m\u001b[0mterm\u001b[0m\u001b[1;33m,\u001b[0m \u001b[0msyms\u001b[0m\u001b[1;33m,\u001b[0m \u001b[0mfunc\u001b[0m\u001b[1;33m,\u001b[0m \u001b[1;32mTrue\u001b[0m\u001b[1;33m,\u001b[0m \u001b[0mexact\u001b[0m\u001b[1;33m,\u001b[0m \u001b[0mdistribute_order_term\u001b[0m\u001b[1;33m)\u001b[0m\u001b[1;33m\u001b[0m\u001b[1;33m\u001b[0m\u001b[0m\n\u001b[1;32m--> 338\u001b[1;33m                 for term in expr.args])\n\u001b[0m\u001b[0;32m    339\u001b[0m         \u001b[1;32melif\u001b[0m \u001b[0mexpr\u001b[0m\u001b[1;33m.\u001b[0m\u001b[0mis_Pow\u001b[0m\u001b[1;33m:\u001b[0m\u001b[1;33m\u001b[0m\u001b[1;33m\u001b[0m\u001b[0m\n\u001b[0;32m    340\u001b[0m             b = collect(\n",
      "\u001b[1;32m~\\Anaconda3\\envs\\Simulations\\lib\\site-packages\\sympy\\simplify\\radsimp.py\u001b[0m in \u001b[0;36mcollect\u001b[1;34m(expr, syms, func, evaluate, exact, distribute_order_term)\u001b[0m\n\u001b[0;32m    380\u001b[0m             \u001b[1;32mif\u001b[0m \u001b[0mresult\u001b[0m \u001b[1;32mis\u001b[0m \u001b[1;32mnot\u001b[0m \u001b[1;32mNone\u001b[0m\u001b[1;33m:\u001b[0m\u001b[1;33m\u001b[0m\u001b[1;33m\u001b[0m\u001b[0m\n\u001b[0;32m    381\u001b[0m                 \u001b[1;32mif\u001b[0m \u001b[1;32mnot\u001b[0m \u001b[0msymbol\u001b[0m\u001b[1;33m.\u001b[0m\u001b[0mis_commutative\u001b[0m\u001b[1;33m:\u001b[0m\u001b[1;33m\u001b[0m\u001b[1;33m\u001b[0m\u001b[0m\n\u001b[1;32m--> 382\u001b[1;33m                     \u001b[1;32mraise\u001b[0m \u001b[0mAttributeError\u001b[0m\u001b[1;33m(\u001b[0m\u001b[1;34m\"Can not collect noncommutative symbol\"\u001b[0m\u001b[1;33m)\u001b[0m\u001b[1;33m\u001b[0m\u001b[1;33m\u001b[0m\u001b[0m\n\u001b[0m\u001b[0;32m    383\u001b[0m \u001b[1;33m\u001b[0m\u001b[0m\n\u001b[0;32m    384\u001b[0m                 \u001b[0mterms\u001b[0m\u001b[1;33m,\u001b[0m \u001b[0melems\u001b[0m\u001b[1;33m,\u001b[0m \u001b[0mcommon_expo\u001b[0m\u001b[1;33m,\u001b[0m \u001b[0mhas_deriv\u001b[0m \u001b[1;33m=\u001b[0m \u001b[0mresult\u001b[0m\u001b[1;33m\u001b[0m\u001b[1;33m\u001b[0m\u001b[0m\n",
      "\u001b[1;31mAttributeError\u001b[0m: Can not collect noncommutative symbol"
     ]
    }
   ],
   "source": [
    "hamiltonian_transformation(U, sx)"
   ]
  },
  {
   "cell_type": "code",
   "execution_count": 15,
   "metadata": {},
   "outputs": [
    {
     "ename": "AttributeError",
     "evalue": "Can not collect noncommutative symbol",
     "output_type": "error",
     "traceback": [
      "\u001b[1;31m---------------------------------------------------------------------------\u001b[0m",
      "\u001b[1;31mAttributeError\u001b[0m                            Traceback (most recent call last)",
      "\u001b[1;32m<ipython-input-15-e23ad7e9f6af>\u001b[0m in \u001b[0;36m<module>\u001b[1;34m\u001b[0m\n\u001b[1;32m----> 1\u001b[1;33m \u001b[0mhamiltonian_transformation\u001b[0m\u001b[1;33m(\u001b[0m\u001b[0mU\u001b[0m\u001b[1;33m,\u001b[0m \u001b[0msx\u001b[0m\u001b[1;33m)\u001b[0m\u001b[1;33m\u001b[0m\u001b[1;33m\u001b[0m\u001b[0m\n\u001b[0m\u001b[0;32m      2\u001b[0m \u001b[0mhamiltonian_transformation\u001b[0m\u001b[1;33m(\u001b[0m\u001b[0mU\u001b[0m\u001b[1;33m,\u001b[0m \u001b[0msz\u001b[0m\u001b[1;33m)\u001b[0m\u001b[1;33m\u001b[0m\u001b[1;33m\u001b[0m\u001b[0m\n\u001b[0;32m      3\u001b[0m \u001b[1;33m\u001b[0m\u001b[0m\n\u001b[0;32m      4\u001b[0m \u001b[0mH1\u001b[0m \u001b[1;33m=\u001b[0m \u001b[0mhamiltonian_transformation\u001b[0m\u001b[1;33m(\u001b[0m\u001b[0mU\u001b[0m\u001b[1;33m,\u001b[0m \u001b[0mH\u001b[0m\u001b[1;33m)\u001b[0m\u001b[1;33m\u001b[0m\u001b[1;33m\u001b[0m\u001b[0m\n\u001b[0;32m      5\u001b[0m \u001b[1;33m\u001b[0m\u001b[0m\n",
      "\u001b[1;32m~\\Documents\\Qbit\\PYTON\\Simulations\\sympsi\\qutility.py\u001b[0m in \u001b[0;36mhamiltonian_transformation\u001b[1;34m(U, H, N, collect_operators, independent, expansion_search)\u001b[0m\n\u001b[0;32m   1108\u001b[0m                                   \u001b[0mcollect_operators\u001b[0m\u001b[1;33m=\u001b[0m\u001b[0mcollect_operators\u001b[0m\u001b[1;33m,\u001b[0m\u001b[1;33m\u001b[0m\u001b[1;33m\u001b[0m\u001b[0m\n\u001b[0;32m   1109\u001b[0m                                   \u001b[0mindependent\u001b[0m\u001b[1;33m=\u001b[0m\u001b[0mindependent\u001b[0m\u001b[1;33m,\u001b[0m\u001b[1;33m\u001b[0m\u001b[1;33m\u001b[0m\u001b[0m\n\u001b[1;32m-> 1110\u001b[1;33m                                   expansion_search=expansion_search)\n\u001b[0m\u001b[0;32m   1111\u001b[0m     \u001b[1;32mreturn\u001b[0m \u001b[0mH_st\u001b[0m \u001b[1;33m+\u001b[0m \u001b[0mH_td\u001b[0m\u001b[1;33m\u001b[0m\u001b[1;33m\u001b[0m\u001b[0m\n\u001b[0;32m   1112\u001b[0m \u001b[1;33m\u001b[0m\u001b[0m\n",
      "\u001b[1;32m~\\Documents\\Qbit\\PYTON\\Simulations\\sympsi\\qutility.py\u001b[0m in \u001b[0;36munitary_transformation\u001b[1;34m(U, O, N, collect_operators, independent, allinone, expansion_search)\u001b[0m\n\u001b[0;32m   1083\u001b[0m                                       \u001b[0mindependent\u001b[0m\u001b[1;33m=\u001b[0m\u001b[0mindependent\u001b[0m\u001b[1;33m,\u001b[0m\u001b[1;33m\u001b[0m\u001b[1;33m\u001b[0m\u001b[0m\n\u001b[0;32m   1084\u001b[0m                                       expansion_search=expansion_search)\n\u001b[1;32m-> 1085\u001b[1;33m                     for op in ops}\n\u001b[0m\u001b[0;32m   1086\u001b[0m \u001b[1;33m\u001b[0m\u001b[0m\n\u001b[0;32m   1087\u001b[0m         \u001b[1;31m#return O.subs(ops_subs, simultaneous=True) # XXX: this this\u001b[0m\u001b[1;33m\u001b[0m\u001b[1;33m\u001b[0m\u001b[1;33m\u001b[0m\u001b[0m\n",
      "\u001b[1;32m~\\Documents\\Qbit\\PYTON\\Simulations\\sympsi\\qutility.py\u001b[0m in \u001b[0;36m<dictcomp>\u001b[1;34m(.0)\u001b[0m\n\u001b[0;32m   1083\u001b[0m                                       \u001b[0mindependent\u001b[0m\u001b[1;33m=\u001b[0m\u001b[0mindependent\u001b[0m\u001b[1;33m,\u001b[0m\u001b[1;33m\u001b[0m\u001b[1;33m\u001b[0m\u001b[0m\n\u001b[0;32m   1084\u001b[0m                                       expansion_search=expansion_search)\n\u001b[1;32m-> 1085\u001b[1;33m                     for op in ops}\n\u001b[0m\u001b[0;32m   1086\u001b[0m \u001b[1;33m\u001b[0m\u001b[0m\n\u001b[0;32m   1087\u001b[0m         \u001b[1;31m#return O.subs(ops_subs, simultaneous=True) # XXX: this this\u001b[0m\u001b[1;33m\u001b[0m\u001b[1;33m\u001b[0m\u001b[1;33m\u001b[0m\u001b[0m\n",
      "\u001b[1;32m~\\Documents\\Qbit\\PYTON\\Simulations\\sympsi\\qutility.py\u001b[0m in \u001b[0;36mbch_expansion\u001b[1;34m(A, B, N, collect_operators, independent, expansion_search)\u001b[0m\n\u001b[0;32m   1031\u001b[0m         \u001b[0me_collected\u001b[0m \u001b[1;33m=\u001b[0m \u001b[0mcollect\u001b[0m\u001b[1;33m(\u001b[0m\u001b[0me\u001b[0m\u001b[1;33m,\u001b[0m \u001b[0mcollect_operators\u001b[0m\u001b[1;33m)\u001b[0m\u001b[1;33m\u001b[0m\u001b[1;33m\u001b[0m\u001b[0m\n\u001b[0;32m   1032\u001b[0m     \u001b[1;32melse\u001b[0m\u001b[1;33m:\u001b[0m\u001b[1;33m\u001b[0m\u001b[1;33m\u001b[0m\u001b[0m\n\u001b[1;32m-> 1033\u001b[1;33m         \u001b[0me_collected\u001b[0m \u001b[1;33m=\u001b[0m \u001b[0mcollect\u001b[0m\u001b[1;33m(\u001b[0m\u001b[0me\u001b[0m\u001b[1;33m,\u001b[0m \u001b[0mops\u001b[0m\u001b[1;33m)\u001b[0m\u001b[1;33m\u001b[0m\u001b[1;33m\u001b[0m\u001b[0m\n\u001b[0m\u001b[0;32m   1034\u001b[0m \u001b[1;33m\u001b[0m\u001b[0m\n\u001b[0;32m   1035\u001b[0m     \u001b[1;32mif\u001b[0m \u001b[0mdebug\u001b[0m\u001b[1;33m:\u001b[0m\u001b[1;33m\u001b[0m\u001b[1;33m\u001b[0m\u001b[0m\n",
      "\u001b[1;32m~\\Anaconda3\\envs\\Simulations\\lib\\site-packages\\sympy\\simplify\\radsimp.py\u001b[0m in \u001b[0;36mcollect\u001b[1;34m(expr, syms, func, evaluate, exact, distribute_order_term)\u001b[0m\n\u001b[0;32m    332\u001b[0m             expr = expr.func(*[\n\u001b[0;32m    333\u001b[0m                     \u001b[0mcollect\u001b[0m\u001b[1;33m(\u001b[0m\u001b[0ma\u001b[0m\u001b[1;33m,\u001b[0m \u001b[0msyms\u001b[0m\u001b[1;33m,\u001b[0m \u001b[0mfunc\u001b[0m\u001b[1;33m,\u001b[0m \u001b[1;32mTrue\u001b[0m\u001b[1;33m,\u001b[0m \u001b[0mexact\u001b[0m\u001b[1;33m,\u001b[0m \u001b[0mdistribute_order_term\u001b[0m\u001b[1;33m)\u001b[0m\u001b[1;33m\u001b[0m\u001b[1;33m\u001b[0m\u001b[0m\n\u001b[1;32m--> 334\u001b[1;33m                     for a in expr.args if a != o]) + o\n\u001b[0m\u001b[0;32m    335\u001b[0m         \u001b[1;32melif\u001b[0m \u001b[0mexpr\u001b[0m\u001b[1;33m.\u001b[0m\u001b[0mis_Mul\u001b[0m\u001b[1;33m:\u001b[0m\u001b[1;33m\u001b[0m\u001b[1;33m\u001b[0m\u001b[0m\n\u001b[0;32m    336\u001b[0m             return expr.func(*[\n",
      "\u001b[1;32m~\\Anaconda3\\envs\\Simulations\\lib\\site-packages\\sympy\\simplify\\radsimp.py\u001b[0m in \u001b[0;36m<listcomp>\u001b[1;34m(.0)\u001b[0m\n\u001b[0;32m    332\u001b[0m             expr = expr.func(*[\n\u001b[0;32m    333\u001b[0m                     \u001b[0mcollect\u001b[0m\u001b[1;33m(\u001b[0m\u001b[0ma\u001b[0m\u001b[1;33m,\u001b[0m \u001b[0msyms\u001b[0m\u001b[1;33m,\u001b[0m \u001b[0mfunc\u001b[0m\u001b[1;33m,\u001b[0m \u001b[1;32mTrue\u001b[0m\u001b[1;33m,\u001b[0m \u001b[0mexact\u001b[0m\u001b[1;33m,\u001b[0m \u001b[0mdistribute_order_term\u001b[0m\u001b[1;33m)\u001b[0m\u001b[1;33m\u001b[0m\u001b[1;33m\u001b[0m\u001b[0m\n\u001b[1;32m--> 334\u001b[1;33m                     for a in expr.args if a != o]) + o\n\u001b[0m\u001b[0;32m    335\u001b[0m         \u001b[1;32melif\u001b[0m \u001b[0mexpr\u001b[0m\u001b[1;33m.\u001b[0m\u001b[0mis_Mul\u001b[0m\u001b[1;33m:\u001b[0m\u001b[1;33m\u001b[0m\u001b[1;33m\u001b[0m\u001b[0m\n\u001b[0;32m    336\u001b[0m             return expr.func(*[\n",
      "\u001b[1;32m~\\Anaconda3\\envs\\Simulations\\lib\\site-packages\\sympy\\simplify\\radsimp.py\u001b[0m in \u001b[0;36mcollect\u001b[1;34m(expr, syms, func, evaluate, exact, distribute_order_term)\u001b[0m\n\u001b[0;32m    336\u001b[0m             return expr.func(*[\n\u001b[0;32m    337\u001b[0m                 \u001b[0mcollect\u001b[0m\u001b[1;33m(\u001b[0m\u001b[0mterm\u001b[0m\u001b[1;33m,\u001b[0m \u001b[0msyms\u001b[0m\u001b[1;33m,\u001b[0m \u001b[0mfunc\u001b[0m\u001b[1;33m,\u001b[0m \u001b[1;32mTrue\u001b[0m\u001b[1;33m,\u001b[0m \u001b[0mexact\u001b[0m\u001b[1;33m,\u001b[0m \u001b[0mdistribute_order_term\u001b[0m\u001b[1;33m)\u001b[0m\u001b[1;33m\u001b[0m\u001b[1;33m\u001b[0m\u001b[0m\n\u001b[1;32m--> 338\u001b[1;33m                 for term in expr.args])\n\u001b[0m\u001b[0;32m    339\u001b[0m         \u001b[1;32melif\u001b[0m \u001b[0mexpr\u001b[0m\u001b[1;33m.\u001b[0m\u001b[0mis_Pow\u001b[0m\u001b[1;33m:\u001b[0m\u001b[1;33m\u001b[0m\u001b[1;33m\u001b[0m\u001b[0m\n\u001b[0;32m    340\u001b[0m             b = collect(\n",
      "\u001b[1;32m~\\Anaconda3\\envs\\Simulations\\lib\\site-packages\\sympy\\simplify\\radsimp.py\u001b[0m in \u001b[0;36m<listcomp>\u001b[1;34m(.0)\u001b[0m\n\u001b[0;32m    336\u001b[0m             return expr.func(*[\n\u001b[0;32m    337\u001b[0m                 \u001b[0mcollect\u001b[0m\u001b[1;33m(\u001b[0m\u001b[0mterm\u001b[0m\u001b[1;33m,\u001b[0m \u001b[0msyms\u001b[0m\u001b[1;33m,\u001b[0m \u001b[0mfunc\u001b[0m\u001b[1;33m,\u001b[0m \u001b[1;32mTrue\u001b[0m\u001b[1;33m,\u001b[0m \u001b[0mexact\u001b[0m\u001b[1;33m,\u001b[0m \u001b[0mdistribute_order_term\u001b[0m\u001b[1;33m)\u001b[0m\u001b[1;33m\u001b[0m\u001b[1;33m\u001b[0m\u001b[0m\n\u001b[1;32m--> 338\u001b[1;33m                 for term in expr.args])\n\u001b[0m\u001b[0;32m    339\u001b[0m         \u001b[1;32melif\u001b[0m \u001b[0mexpr\u001b[0m\u001b[1;33m.\u001b[0m\u001b[0mis_Pow\u001b[0m\u001b[1;33m:\u001b[0m\u001b[1;33m\u001b[0m\u001b[1;33m\u001b[0m\u001b[0m\n\u001b[0;32m    340\u001b[0m             b = collect(\n",
      "\u001b[1;32m~\\Anaconda3\\envs\\Simulations\\lib\\site-packages\\sympy\\simplify\\radsimp.py\u001b[0m in \u001b[0;36mcollect\u001b[1;34m(expr, syms, func, evaluate, exact, distribute_order_term)\u001b[0m\n\u001b[0;32m    380\u001b[0m             \u001b[1;32mif\u001b[0m \u001b[0mresult\u001b[0m \u001b[1;32mis\u001b[0m \u001b[1;32mnot\u001b[0m \u001b[1;32mNone\u001b[0m\u001b[1;33m:\u001b[0m\u001b[1;33m\u001b[0m\u001b[1;33m\u001b[0m\u001b[0m\n\u001b[0;32m    381\u001b[0m                 \u001b[1;32mif\u001b[0m \u001b[1;32mnot\u001b[0m \u001b[0msymbol\u001b[0m\u001b[1;33m.\u001b[0m\u001b[0mis_commutative\u001b[0m\u001b[1;33m:\u001b[0m\u001b[1;33m\u001b[0m\u001b[1;33m\u001b[0m\u001b[0m\n\u001b[1;32m--> 382\u001b[1;33m                     \u001b[1;32mraise\u001b[0m \u001b[0mAttributeError\u001b[0m\u001b[1;33m(\u001b[0m\u001b[1;34m\"Can not collect noncommutative symbol\"\u001b[0m\u001b[1;33m)\u001b[0m\u001b[1;33m\u001b[0m\u001b[1;33m\u001b[0m\u001b[0m\n\u001b[0m\u001b[0;32m    383\u001b[0m \u001b[1;33m\u001b[0m\u001b[0m\n\u001b[0;32m    384\u001b[0m                 \u001b[0mterms\u001b[0m\u001b[1;33m,\u001b[0m \u001b[0melems\u001b[0m\u001b[1;33m,\u001b[0m \u001b[0mcommon_expo\u001b[0m\u001b[1;33m,\u001b[0m \u001b[0mhas_deriv\u001b[0m \u001b[1;33m=\u001b[0m \u001b[0mresult\u001b[0m\u001b[1;33m\u001b[0m\u001b[1;33m\u001b[0m\u001b[0m\n",
      "\u001b[1;31mAttributeError\u001b[0m: Can not collect noncommutative symbol"
     ]
    }
   ],
   "source": [
    "hamiltonian_transformation(U, sx)\n",
    "hamiltonian_transformation(U, sz)\n",
    "\n",
    "H1 = hamiltonian_transformation(U, H)\n",
    "\n",
    "Eq(Hsym, H1)"
   ]
  },
  {
   "cell_type": "code",
   "execution_count": null,
   "metadata": {},
   "outputs": [],
   "source": [
    "H2 = collect(H1.expand(), (sx, sz))\n",
    "\n",
    "Eq(Hsym, H2)"
   ]
  },
  {
   "cell_type": "code",
   "execution_count": null,
   "metadata": {},
   "outputs": [],
   "source": [
    "c, o = split_coeff_operator(H2.args[0]) #сondition of equality to 0 of diagonal terms\n",
    "\n",
    "Eq(c, 0)"
   ]
  },
  {
   "cell_type": "code",
   "execution_count": null,
   "metadata": {},
   "outputs": [],
   "source": [
    "Eq(tan(theta), Delta/eps)"
   ]
  },
  {
   "cell_type": "code",
   "execution_count": null,
   "metadata": {},
   "outputs": [],
   "source": [
    "H3 = simplify(H2.subs(theta, atan(Delta/eps)))\n",
    "\n",
    "Eq(Hsym, H3)"
   ]
  },
  {
   "cell_type": "markdown",
   "metadata": {},
   "source": [
    "# Diagonalised Hamiltonian"
   ]
  },
  {
   "cell_type": "code",
   "execution_count": null,
   "metadata": {},
   "outputs": [],
   "source": [
    "H4 = H3.subs(Delta, sqrt(Omega_q ** 2 - eps ** 2))\n",
    "\n",
    "Eq(Hsym, H4)"
   ]
  },
  {
   "cell_type": "markdown",
   "metadata": {},
   "source": [
    "# Resonator Hamiltonian"
   ]
  },
  {
   "cell_type": "code",
   "execution_count": null,
   "metadata": {},
   "outputs": [],
   "source": [
    "from sympsi.boson import *\n",
    "from sympsi.operatorordering import *"
   ]
  },
  {
   "cell_type": "code",
   "execution_count": null,
   "metadata": {},
   "outputs": [],
   "source": [
    "omega_r = symbols(\"ω_r\", positive=True)\n",
    "Hsym = symbols(\"H\")\n",
    "a = BosonOp(\"a\")\n",
    "\n",
    "H0 = omega_r * Dagger(a) * a\n",
    "\n",
    "Eq(Hsym, H0)"
   ]
  },
  {
   "cell_type": "code",
   "execution_count": null,
   "metadata": {},
   "outputs": [],
   "source": [
    "omega_d, t = symbols(\"omega_d, t\")\n",
    "A = symbols(\"A\")\n",
    "\n",
    "Hdrive = (A * exp(-I * omega_d * t) + conjugate(A) * exp(I * omega_d * t)) * (a + Dagger(a))\n",
    "\n",
    "Hdrive"
   ]
  },
  {
   "cell_type": "code",
   "execution_count": null,
   "metadata": {},
   "outputs": [],
   "source": [
    "H = H0 + Hdrive\n",
    "\n",
    "Eq(Hsym, H)"
   ]
  },
  {
   "cell_type": "code",
   "execution_count": null,
   "metadata": {},
   "outputs": [],
   "source": [
    "ω_0 = Symbol(\"ω_0\", real=True, positive=True)\n",
    "δω = Symbol(\"δω\", real=True, positive=True)\n",
    "Ω_R = Symbol(\"Ω_R\", real=True, positive=True)\n",
    "Ω_R_g = Symbol(\"Ω_R^g\", real=True, positive=True)\n",
    "\n",
    "\n",
    "γ = Symbol(\"γ\", real=True, positive=True)\n",
    "γ_ϕ = Symbol(\"γ_ϕ\", real=True, positive=True)\n",
    "t = Symbol(\"t\", real=True, positive=True)\n",
    "ρ_11 = Function(\"ρ_11\")(t)\n",
    "ρ_12 = Function(\"ρ_12\")(t)\n",
    "ρ_21 = Function(\"ρ_21\")(t)\n",
    "ρ_22 = Function(\"ρ_22\")(t)\n",
    "c_1 = Function(\"c_1\")(t)\n",
    "c_2 = Function(\"c_2\")(t)\n",
    "\n",
    "ρ = Matrix([[ρ_11,ρ_12],[ρ_21, 1-ρ_11]]) \n",
    "σ_z = Matrix([[1,0],[0,-1]]) \n",
    "σ_y = Matrix([[0,-1j],[1j,0]])\n",
    "σ_m = Matrix([[0,0],[1,0]]) \n",
    "σ_p = Matrix([[0,1],[0,0]])\n",
    "σ_x = σ_m+σ_p"
   ]
  },
  {
   "cell_type": "code",
   "execution_count": null,
   "metadata": {},
   "outputs": [],
   "source": [
    "#lindbladian operator\n",
    "\n",
    "L_ϕ = sqrt(γ_ϕ/2)*σ_z\n",
    "L_r = sqrt(γ)*σ_m\n",
    "\n",
    "def D(L_ϕ, L_r, γ_ϕ, γ, ρ):\n",
    "    D_ϕ = L_ϕ*ρ*L_ϕ.adjoint() - ρ*L_ϕ.adjoint()*L_ϕ/2 - L_ϕ.adjoint()*L_ϕ*ρ/2\n",
    "    D_r = L_r*ρ*L_r.adjoint() - ρ*L_r.adjoint()*L_r/2 - L_r.adjoint()*L_r*ρ/2\n",
    "    return  D_ϕ + D_r\n",
    "\n",
    "#Rabi hamiltonian\n",
    "\n",
    "\n",
    "\n",
    "H = Δ/2*σ_x + ε/2*σ_z\n",
    "\n",
    "U = exp(1j*θ*σ_y)\n",
    "\n",
    "\n",
    "U"
   ]
  },
  {
   "cell_type": "code",
   "execution_count": null,
   "metadata": {},
   "outputs": [],
   "source": []
  },
  {
   "cell_type": "code",
   "execution_count": null,
   "metadata": {},
   "outputs": [],
   "source": []
  },
  {
   "cell_type": "code",
   "execution_count": null,
   "metadata": {},
   "outputs": [],
   "source": []
  }
 ],
 "metadata": {
  "kernelspec": {
   "display_name": "Python 3",
   "language": "python",
   "name": "python3"
  },
  "language_info": {
   "codemirror_mode": {
    "name": "ipython",
    "version": 3
   },
   "file_extension": ".py",
   "mimetype": "text/x-python",
   "name": "python",
   "nbconvert_exporter": "python",
   "pygments_lexer": "ipython3",
   "version": "3.7.6"
  }
 },
 "nbformat": 4,
 "nbformat_minor": 2
}
